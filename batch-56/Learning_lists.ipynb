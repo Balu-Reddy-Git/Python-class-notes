{
 "cells": [
  {
   "cell_type": "code",
   "execution_count": null,
   "metadata": {
    "collapsed": true
   },
   "outputs": [],
   "source": [
    "# A list is a linear representation of data.\n",
    "# A indexed representation of your data.\n",
    "# list vs array(multi-dimesion)\n",
    "# http://scipy.org/"
   ]
  },
  {
   "cell_type": "code",
   "execution_count": 5,
   "metadata": {
    "collapsed": false
   },
   "outputs": [
    {
     "name": "stdout",
     "output_type": "stream",
     "text": [
      "['apple', 'banana', 'custard', 'dates']\n",
      "<type 'list'>\n",
      "[]\n",
      "<type 'list'>\n",
      "[]\n",
      "<type 'list'>\n"
     ]
    }
   ],
   "source": [
    "# creation of a list\n",
    "\n",
    "my_fruits = ['apple','banana','custard','dates']\n",
    "print my_fruits\n",
    "print type(my_fruits)\n",
    "\n",
    "empty_list = list()\n",
    "print empty_list\n",
    "print type(empty_list)\n",
    "\n",
    "empty_list1 = []\n",
    "print empty_list1\n",
    "print type(empty_list1)"
   ]
  },
  {
   "cell_type": "code",
   "execution_count": null,
   "metadata": {
    "collapsed": true
   },
   "outputs": [],
   "source": []
  }
 ],
 "metadata": {
  "kernelspec": {
   "display_name": "Python 2",
   "language": "python",
   "name": "python2"
  },
  "language_info": {
   "codemirror_mode": {
    "name": "ipython",
    "version": 2
   },
   "file_extension": ".py",
   "mimetype": "text/x-python",
   "name": "python",
   "nbconvert_exporter": "python",
   "pygments_lexer": "ipython2",
   "version": "2.7.6"
  }
 },
 "nbformat": 4,
 "nbformat_minor": 1
}
