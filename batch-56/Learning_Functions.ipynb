{
 "cells": [
  {
   "cell_type": "code",
   "execution_count": null,
   "metadata": {
    "collapsed": true
   },
   "outputs": [],
   "source": [
    "# function\n",
    "# one single program - 1000 lines\n",
    "# block of the code and call it when required.\n",
    "#"
   ]
  },
  {
   "cell_type": "code",
   "execution_count": 1,
   "metadata": {
    "collapsed": true
   },
   "outputs": [],
   "source": [
    "def my_func():\n",
    "    print \"hello world\""
   ]
  },
  {
   "cell_type": "code",
   "execution_count": 8,
   "metadata": {
    "collapsed": true
   },
   "outputs": [],
   "source": [
    "def my_func1():\n",
    "    return \"hello world\"\n",
    "    print \"hey today is monday\"\n",
    "    print \"today we are going to have fun\""
   ]
  },
  {
   "cell_type": "code",
   "execution_count": 4,
   "metadata": {
    "collapsed": false
   },
   "outputs": [
    {
     "name": "stdout",
     "output_type": "stream",
     "text": [
      "<type 'function'>\n",
      "<function my_func at 0x7fbd314dcc80>\n"
     ]
    },
    {
     "data": {
      "text/plain": [
       "<function __main__.my_func>"
      ]
     },
     "execution_count": 4,
     "metadata": {},
     "output_type": "execute_result"
    }
   ],
   "source": [
    "print type(my_func)\n",
    "print my_func\n",
    "my_func"
   ]
  },
  {
   "cell_type": "code",
   "execution_count": 5,
   "metadata": {
    "collapsed": false
   },
   "outputs": [
    {
     "name": "stdout",
     "output_type": "stream",
     "text": [
      "hello world\n",
      "None\n"
     ]
    }
   ],
   "source": [
    "# run the code\n",
    "# you function has  return value.\n",
    "# either you return or you get a none value.\n",
    "# Marks the end of the function.\n",
    "# can we use return more than once in a function. yes, with a conditional statements.\n",
    "print my_func()"
   ]
  },
  {
   "cell_type": "code",
   "execution_count": 9,
   "metadata": {
    "collapsed": false
   },
   "outputs": [
    {
     "name": "stdout",
     "output_type": "stream",
     "text": [
      "hello world\n"
     ]
    }
   ],
   "source": [
    "print my_func1()"
   ]
  },
  {
   "cell_type": "code",
   "execution_count": 10,
   "metadata": {
    "collapsed": true
   },
   "outputs": [],
   "source": [
    "# namespaces\n",
    "# local or global variables"
   ]
  },
  {
   "cell_type": "code",
   "execution_count": 14,
   "metadata": {
    "collapsed": true
   },
   "outputs": [],
   "source": [
    "# variable defined inside a function are called local variables.\n",
    "# They come into action during the run time of the function.\n",
    "# Lifespan of the local variables is during the run time of the function.\n",
    "# can i access the local variables outside the function ? NO\n",
    "\n",
    "def my_new():\n",
    "    x = 1\n",
    "    print locals()\n",
    "    return x"
   ]
  },
  {
   "cell_type": "code",
   "execution_count": 15,
   "metadata": {
    "collapsed": false
   },
   "outputs": [
    {
     "name": "stdout",
     "output_type": "stream",
     "text": [
      "{'x': 1}\n",
      "1\n"
     ]
    }
   ],
   "source": [
    "print my_new()"
   ]
  },
  {
   "cell_type": "code",
   "execution_count": 13,
   "metadata": {
    "collapsed": false
   },
   "outputs": [
    {
     "ename": "NameError",
     "evalue": "name 'x' is not defined",
     "output_type": "error",
     "traceback": [
      "\u001b[0;31m---------------------------------------------------------------------------\u001b[0m",
      "\u001b[0;31mNameError\u001b[0m                                 Traceback (most recent call last)",
      "\u001b[0;32m<ipython-input-13-2d264e11d975>\u001b[0m in \u001b[0;36m<module>\u001b[0;34m()\u001b[0m\n\u001b[0;32m----> 1\u001b[0;31m \u001b[0;32mprint\u001b[0m \u001b[0mx\u001b[0m\u001b[0;34m\u001b[0m\u001b[0m\n\u001b[0m",
      "\u001b[0;31mNameError\u001b[0m: name 'x' is not defined"
     ]
    }
   ],
   "source": [
    "print x"
   ]
  },
  {
   "cell_type": "code",
   "execution_count": 19,
   "metadata": {
    "collapsed": false
   },
   "outputs": [
    {
     "name": "stdout",
     "output_type": "stream",
     "text": [
      "{'_dh': [u'/home/tcloudost/Documents/git_repositories/python-batches/batch-56'], '__': '', 'my_func': <function my_func at 0x7fbd314dcc80>, '__builtin__': <module '__builtin__' (built-in)>, '_iii': u'# Scope Resolution\\n\\nx = 10\\ndef my_new():\\n    print locals()\\n    return x\\n\\nprint globals()', 'quit': <IPython.core.autocall.ZMQExitAutocall object at 0x7fbd32dad0d0>, '_i9': u'print my_func1()', '_i8': u'def my_func1():\\n    return \"hello world\"\\n    print \"hey today is monday\"\\n    print \"today we are going to have fun\"', '_i7': u'print my_func1()', '_i6': u'def my_func1():\\n    return \"hello world\"', '_i5': u'# run the code\\nprint my_func()', '_i4': u'print type(my_func)\\nprint my_func\\nmy_func', '_i3': u'print type(my_func)\\nprint my_func', '_i2': u'print type(my_func)', '_i1': u'def my_func():\\n    print \"hello world\"', 'exit': <IPython.core.autocall.ZMQExitAutocall object at 0x7fbd32dad0d0>, 'get_ipython': <bound method ZMQInteractiveShell.get_ipython of <ipykernel.zmqshell.ZMQInteractiveShell object at 0x7fbd3b9934d0>>, '_i': u'print my_new()', '_i14': u'def my_new():\\n    x = 1\\n    print locals()\\n    return x', '__doc__': 'Automatically created module for IPython interactive environment', 'my_new': <function my_new at 0x7fbd30c65ed8>, '_ii': u'print my_new()', '__builtins__': <module '__builtin__' (built-in)>, 'In': ['', u'def my_func():\\n    print \"hello world\"', u'print type(my_func)', u'print type(my_func)\\nprint my_func', u'print type(my_func)\\nprint my_func\\nmy_func', u'# run the code\\nprint my_func()', u'def my_func1():\\n    return \"hello world\"', u'print my_func1()', u'def my_func1():\\n    return \"hello world\"\\n    print \"hey today is monday\"\\n    print \"today we are going to have fun\"', u'print my_func1()', u'# namespaces\\n# local or global variables', u'def my_new():\\n    x = 1\\n    return x', u'print my_new()', u'print x', u'def my_new():\\n    x = 1\\n    print locals()\\n    return x', u'print my_new()', u'# Scope Resolution\\n\\nx = 10\\ndef my_new():\\n    print locals()\\n    return x\\n\\nprint globals()', u'print my_new()', u'print my_new()', u'# Scope Resolution\\n# First look locally and then globally.\\n\\nx = 10\\ndef my_new():\\n    x = 2\\n    print locals()\\n    return x\\n\\nprint globals()'], 'my_func1': <function my_func1 at 0x7fbd314dcde8>, '__name__': '__main__', '___': '', '_': <function my_func at 0x7fbd314dcc80>, '_sh': <module 'IPython.core.shadowns' from '/usr/local/lib/python2.7/dist-packages/IPython/core/shadowns.pyc'>, '_4': <function my_func at 0x7fbd314dcc80>, '_i13': u'print x', '_i12': u'print my_new()', '_i11': u'def my_new():\\n    x = 1\\n    return x', '_i10': u'# namespaces\\n# local or global variables', '_i17': u'print my_new()', '_i16': u'# Scope Resolution\\n\\nx = 10\\ndef my_new():\\n    print locals()\\n    return x\\n\\nprint globals()', '_i15': u'print my_new()', '_ih': ['', u'def my_func():\\n    print \"hello world\"', u'print type(my_func)', u'print type(my_func)\\nprint my_func', u'print type(my_func)\\nprint my_func\\nmy_func', u'# run the code\\nprint my_func()', u'def my_func1():\\n    return \"hello world\"', u'print my_func1()', u'def my_func1():\\n    return \"hello world\"\\n    print \"hey today is monday\"\\n    print \"today we are going to have fun\"', u'print my_func1()', u'# namespaces\\n# local or global variables', u'def my_new():\\n    x = 1\\n    return x', u'print my_new()', u'print x', u'def my_new():\\n    x = 1\\n    print locals()\\n    return x', u'print my_new()', u'# Scope Resolution\\n\\nx = 10\\ndef my_new():\\n    print locals()\\n    return x\\n\\nprint globals()', u'print my_new()', u'print my_new()', u'# Scope Resolution\\n# First look locally and then globally.\\n\\nx = 10\\ndef my_new():\\n    x = 2\\n    print locals()\\n    return x\\n\\nprint globals()'], 'x': 10, '_i19': u'# Scope Resolution\\n# First look locally and then globally.\\n\\nx = 10\\ndef my_new():\\n    x = 2\\n    print locals()\\n    return x\\n\\nprint globals()', '_i18': u'print my_new()', '_oh': {4: <function my_func at 0x7fbd314dcc80>}, 'Out': {4: <function my_func at 0x7fbd314dcc80>}}\n"
     ]
    }
   ],
   "source": [
    "# Scope Resolution\n",
    "# First look locally and then globally.\n",
    "# locals -> give the namespace/variables available to us locally.\n",
    "# globals -> give the namespace/variables available to us globally.\n",
    "\n",
    "x = 10\n",
    "def my_new():\n",
    "    x = 2\n",
    "    print locals()\n",
    "    return x\n",
    "\n",
    "print globals()"
   ]
  },
  {
   "cell_type": "code",
   "execution_count": null,
   "metadata": {
    "collapsed": true
   },
   "outputs": [],
   "source": [
    "# 'x': 10,\n",
    "# 4th line from bottom."
   ]
  },
  {
   "cell_type": "code",
   "execution_count": 17,
   "metadata": {
    "collapsed": false
   },
   "outputs": [
    {
     "name": "stdout",
     "output_type": "stream",
     "text": [
      "{}\n",
      "10\n"
     ]
    }
   ],
   "source": [
    "print my_new()"
   ]
  },
  {
   "cell_type": "code",
   "execution_count": 20,
   "metadata": {
    "collapsed": false
   },
   "outputs": [
    {
     "name": "stdout",
     "output_type": "stream",
     "text": [
      "{'x': 2}\n",
      "2\n"
     ]
    }
   ],
   "source": [
    "print my_new()"
   ]
  },
  {
   "cell_type": "code",
   "execution_count": 21,
   "metadata": {
    "collapsed": false
   },
   "outputs": [
    {
     "name": "stdout",
     "output_type": "stream",
     "text": [
      "10\n"
     ]
    }
   ],
   "source": [
    "print x"
   ]
  },
  {
   "cell_type": "code",
   "execution_count": null,
   "metadata": {
    "collapsed": true
   },
   "outputs": [],
   "source": []
  }
 ],
 "metadata": {
  "kernelspec": {
   "display_name": "Python 2",
   "language": "python",
   "name": "python2"
  },
  "language_info": {
   "codemirror_mode": {
    "name": "ipython",
    "version": 2
   },
   "file_extension": ".py",
   "mimetype": "text/x-python",
   "name": "python",
   "nbconvert_exporter": "python",
   "pygments_lexer": "ipython2",
   "version": "2.7.6"
  }
 },
 "nbformat": 4,
 "nbformat_minor": 1
}
