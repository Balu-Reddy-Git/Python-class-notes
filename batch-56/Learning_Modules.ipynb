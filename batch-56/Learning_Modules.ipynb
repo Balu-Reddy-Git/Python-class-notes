{
 "cells": [
  {
   "cell_type": "code",
   "execution_count": null,
   "metadata": {
    "collapsed": true
   },
   "outputs": [],
   "source": [
    "# module is just a python program."
   ]
  },
  {
   "cell_type": "code",
   "execution_count": 2,
   "metadata": {
    "collapsed": false
   },
   "outputs": [
    {
     "name": "stdout",
     "output_type": "stream",
     "text": [
      "\n",
      "Welcome to Python 2.7!  This is the online help utility.\n",
      "\n",
      "If this is your first time using Python, you should definitely check out\n",
      "the tutorial on the Internet at http://docs.python.org/2.7/tutorial/.\n",
      "\n",
      "Enter the name of any module, keyword, or topic to get help on writing\n",
      "Python programs and using Python modules.  To quit this help utility and\n",
      "return to the interpreter, just type \"quit\".\n",
      "\n",
      "To get a list of available modules, keywords, or topics, type \"modules\",\n",
      "\"keywords\", or \"topics\".  Each module also comes with a one-line summary\n",
      "of what it does; to list the modules whose summaries contain a given word\n",
      "such as \"spam\", type \"modules spam\".\n",
      "\n",
      "help> modules\n",
      "\n",
      "Please wait a moment while I gather a list of all available modules...\n",
      "\n"
     ]
    },
    {
     "name": "stderr",
     "output_type": "stream",
     "text": [
      "/usr/local/lib/python2.7/dist-packages/IPython/kernel/__init__.py:13: ShimWarning: The `IPython.kernel` package has been deprecated. You should import from ipykernel or jupyter_client instead.\n",
      "  \"You should import from ipykernel or jupyter_client instead.\", ShimWarning)\n",
      "/usr/lib/python2.7/dist-packages/gobject/constants.py:24: Warning: g_boxed_type_register_static: assertion 'g_type_from_name (name) == 0' failed\n",
      "  import gobject._gobject\n",
      "No handlers could be found for logger \"oneconf.distributor\"\n",
      "/usr/lib/python2.7/dist-packages/gtk-2.0/gtk/__init__.py:127: RuntimeWarning: PyOS_InputHook is not available for interactive use of PyGTK\n",
      "  set_interactive(1)\n"
     ]
    },
    {
     "name": "stdout",
     "output_type": "stream",
     "text": [
      "ANSI                anydbm              gtksourceview2      reportlab\n",
      "AptUrl              apt                 gtkunixprint        repr\n",
      "BaseHTTPServer      apt_inst            gzip                requests\n",
      "Bastion             apt_pkg             hashlib             resource\n",
      "BeautifulSoup       aptdaemon           heapq               rexec\n",
      "BeautifulSoupTests  aptsources          hmac                rfc822\n",
      "CDROM               argparse            hotshot             rlcompleter\n",
      "CGIHTTPServer       array               html5lib            rmagic\n",
      "Canvas              ast                 htmlentitydefs      robotparser\n",
      "CommandNotFound     asynchat            htmllib             runpy\n",
      "ConfigParser        asyncore            httplib             samba\n",
      "Cookie              atexit              httplib2            sched\n",
      "Crypto              atk                 idlelib             screen\n",
      "DLFCN               audiodev            ihooks              select\n",
      "Dialog              audioop             imaplib             serial\n",
      "DocXMLRPCServer     autoreload          imghdr              sessioninstaller\n",
      "Exscript            axi                 imp                 sets\n",
      "Exscriptd           backports           importlib           setuptools\n",
      "FSM                 backports_abc       imputil             sexy\n",
      "FileDialog          base64              inspect             sgmllib\n",
      "FixTk               bdb                 io                  sha\n",
      "HTMLParser          binascii            ipykernel           shelve\n",
      "IN                  binhex              ipython_genutils    shlex\n",
      "IPython             bisect              ipywidgets          shutil\n",
      "Image               bonobo              itertools           shutil_backports\n",
      "ImageChops          bpdb                jinja2              signal\n",
      "ImageColor          bpython             json                simplegeneric\n",
      "ImageCrackCode      bsddb               jsonschema          singledispatch\n",
      "ImageDraw           bz2                 jupyter             singledispatch_helpers\n",
      "ImageEnhance        cPickle             jupyter_client      sip\n",
      "ImageFile           cProfile            jupyter_console     sipconfig\n",
      "ImageFileIO         cStringIO           jupyter_core        sipconfig_nd\n",
      "ImageFilter         cairo               keyword             site\n",
      "ImageFont           calendar            ldb                 sitecustomize\n",
      "ImageGL             caribou             lib2to3             six\n",
      "ImageGrab           certifi             libxml2             smbc\n",
      "ImageMath           cgi                 libxml2mod          smtpd\n",
      "ImageOps            cgitb               linecache           smtplib\n",
      "ImagePalette        chardet             linuxaudiodev       sndhdr\n",
      "ImagePath           chunk               locale              socket\n",
      "ImageQt             cmath               lockfile            spwd\n",
      "ImageSequence       cmd                 logging             spyderlib\n",
      "ImageStat           code                lsb_release         spyderplugins\n",
      "ImageTk             codecs              lxml                sqlite3\n",
      "ImageWin            codeop              macpath             sre\n",
      "MimeWriter          collections         macurl2path         sre_compile\n",
      "MySQLdb             colorama            mailbox             sre_constants\n",
      "ORBit               colorsys            mailcap             sre_parse\n",
      "OpenSSL             commands            mako                ssl\n",
      "PAM                 compileall          markupbase          stat\n",
      "PIL                 compiler            markupsafe          statvfs\n",
      "PSDraw              configglue          marshal             storemagic\n",
      "PngImagePlugin      configobj           math                string\n",
      "PyQt4               configparser        md5                 stringold\n",
      "Queue               contextlib          mhlib               stringprep\n",
      "ScrolledText        cookielib           mimetools           strop\n",
      "SimpleDialog        copy                mimetypes           struct\n",
      "SimpleHTTPServer    copy_reg            mimify              subprocess\n",
      "SimpleXMLRPCServer  crypt               mistune             sunau\n",
      "SocketServer        csv                 mmap                sunaudio\n",
      "StringIO            ctypes              modulefinder        symbol\n",
      "TYPES               cups                multifile           sympyprinting\n",
      "Tix                 cupshelpers         multiprocessing     symtable\n",
      "TkExscript          curl                mutex               sys\n",
      "Tkconstants         curses              mysql               sysconfig\n",
      "Tkdnd               cv                  nbconvert           syslog\n",
      "Tkinter             cv2                 nbformat            tabnanny\n",
      "UbuntuSystemService cythonmagic         netrc               talloc\n",
      "UserDict            datetime            new                 tarfile\n",
      "UserList            dbhash              nis                 tdb\n",
      "UserString          dbm                 nntplib             telnetlib\n",
      "_LWPCookieJar       dbus                notebook            tempfile\n",
      "_MozillaCookieJar   deb822              ntdb                terminado\n",
      "__builtin__         debconf             ntpath              termios\n",
      "__future__          debian              nturl2path          test\n",
      "_abcoll             debian_bundle       numbers             tests\n",
      "_ast                debtagshw           numpy               textwrap\n",
      "_bisect             decimal             oauthlib            this\n",
      "_bsddb              decorator           oneconf             thread\n",
      "_codecs             defer               opcode              threading\n",
      "_codecs_cn          difflib             operator            tidy\n",
      "_codecs_hk          dircache            optparse            time\n",
      "_codecs_iso2022     dirspec             os                  timeit\n",
      "_codecs_jp          dis                 os2emxpath          tkColorChooser\n",
      "_codecs_kr          distlib             ossaudiodev         tkCommonDialog\n",
      "_codecs_tw          distutils           pango               tkFileDialog\n",
      "_collections        dns                 pangocairo          tkFont\n",
      "_csv                doctest             paramiko            tkMessageBox\n",
      "_ctypes             drv_libxml2         parser              tkSimpleDialog\n",
      "_ctypes_test        dsextras            parted              toaiff\n",
      "_curses             dumbdbm             pathlib2            token\n",
      "_curses_panel       dummy_thread        pdb                 tokenize\n",
      "_dbus_bindings      dummy_threading     pexpect             tornado\n",
      "_dbus_glib_bindings duplicity           pickle              trace\n",
      "_elementtree        easy_install        pickleshare         traceback\n",
      "_functools          email               pickletools         traitlets\n",
      "_hashlib            encodings           pip                 ttk\n",
      "_heapq              entrypoints         pipes               tty\n",
      "_hotshot            errno               piston_mini_client  turtle\n",
      "_io                 exceptions          pkg_resources       twisted\n",
      "_json               fabfile             pkgutil             types\n",
      "_locale             fabric              platform            ubuntu_sso\n",
      "_lsprof             fcntl               plistlib            unicodedata\n",
      "_markerlib          fdpexpect           popen2              unittest\n",
      "_md5                feedparser          poplib              urllib\n",
      "_multibytecodec     filecmp             posix               urllib2\n",
      "_multiprocessing    fileinput           posixfile           urllib3\n",
      "_mysql              fnmatch             posixpath           urlparse\n",
      "_mysql_exceptions   formatter           pprint              user\n",
      "_osx_support        fpectl              profile             uu\n",
      "_ped                fpformat            prompt_toolkit      uuid\n",
      "_pyio               fractions           pstats              validate\n",
      "_random             ftplib              pty                 virtualenv\n",
      "_sha                functools           ptyprocess          vte\n",
      "_sha256             functools32         pwd                 warnings\n",
      "_sha512             future_builtins     pxssh               wave\n",
      "_smbc               gc                  py_compile          wcwidth\n",
      "_socket             gconf               pyatspi             weakref\n",
      "_sqlite3            gdbm                pyclbr              webbrowser\n",
      "_sre                genericpath         pycurl              webkit\n",
      "_ssl                getopt              pydoc               whichdb\n",
      "_strptime           getpass             pydoc_data          widgetsnbextension\n",
      "_struct             gettext             pyexpat             wsgiref\n",
      "_symtable           gi                  pygments            xapian\n",
      "_sysconfigdata      gio                 pygtk               xdg\n",
      "_sysconfigdata_nd   glib                pygtkcompat         xdrlib\n",
      "_testcapi           glob                pyinotify           xml\n",
      "_threading_local    gnome               pynotify            xmllib\n",
      "_tkinter            gnomecanvas         pyodbc              xmlrpclib\n",
      "_warnings           gnomekeyring        pysqlite2           xxsubtype\n",
      "_weakref            gnomevfs            qtconsole           zipfile\n",
      "_weakrefset         gobject             quopri              zipimport\n",
      "abc                 google              random              zlib\n",
      "aifc                grp                 re                  zmq\n",
      "antigravity         gtk                 readline            zope\n",
      "\n",
      "Enter any module name to get more help.  Or, type \"modules spam\" to search\n",
      "for modules whose descriptions contain the word \"spam\".\n",
      "\n",
      "help> quit\n",
      "\n",
      "You are now leaving help and returning to the Python interpreter.\n",
      "If you want to ask for help on a particular object directly from the\n",
      "interpreter, you can type \"help(object)\".  Executing \"help('string')\"\n",
      "has the same effect as typing a particular string at the help> prompt.\n"
     ]
    }
   ],
   "source": [
    "help()"
   ]
  },
  {
   "cell_type": "code",
   "execution_count": null,
   "metadata": {
    "collapsed": true
   },
   "outputs": [],
   "source": [
    "# cross-platform - for our window friends\n",
    "# convience - to knwo what program it is - .py,.pl\n",
    "# you can use it a module in future."
   ]
  },
  {
   "cell_type": "code",
   "execution_count": 3,
   "metadata": {
    "collapsed": true
   },
   "outputs": [],
   "source": [
    "# import\n",
    "import math"
   ]
  },
  {
   "cell_type": "code",
   "execution_count": 4,
   "metadata": {
    "collapsed": false
   },
   "outputs": [
    {
     "name": "stdout",
     "output_type": "stream",
     "text": [
      "['__doc__', '__name__', '__package__', 'acos', 'acosh', 'asin', 'asinh', 'atan', 'atan2', 'atanh', 'ceil', 'copysign', 'cos', 'cosh', 'degrees', 'e', 'erf', 'erfc', 'exp', 'expm1', 'fabs', 'factorial', 'floor', 'fmod', 'frexp', 'fsum', 'gamma', 'hypot', 'isinf', 'isnan', 'ldexp', 'lgamma', 'log', 'log10', 'log1p', 'modf', 'pi', 'pow', 'radians', 'sin', 'sinh', 'sqrt', 'tan', 'tanh', 'trunc']\n"
     ]
    }
   ],
   "source": [
    "print dir(math)"
   ]
  },
  {
   "cell_type": "code",
   "execution_count": 5,
   "metadata": {
    "collapsed": false
   },
   "outputs": [
    {
     "name": "stdout",
     "output_type": "stream",
     "text": [
      "3.14159265359\n"
     ]
    }
   ],
   "source": [
    "print math.pi"
   ]
  },
  {
   "cell_type": "code",
   "execution_count": 6,
   "metadata": {
    "collapsed": false
   },
   "outputs": [
    {
     "name": "stdout",
     "output_type": "stream",
     "text": [
      "Help on built-in function pow in module math:\n",
      "\n",
      "pow(...)\n",
      "    pow(x, y)\n",
      "    \n",
      "    Return x**y (x to the power of y).\n",
      "\n",
      "None\n"
     ]
    }
   ],
   "source": [
    "print help(math.pow)"
   ]
  },
  {
   "cell_type": "code",
   "execution_count": 7,
   "metadata": {
    "collapsed": false
   },
   "outputs": [
    {
     "name": "stdout",
     "output_type": "stream",
     "text": [
      "32.0\n"
     ]
    }
   ],
   "source": [
    "print math.pow(2,5)"
   ]
  },
  {
   "cell_type": "code",
   "execution_count": 8,
   "metadata": {
    "collapsed": true
   },
   "outputs": [],
   "source": [
    "# using alias names\n",
    "import math as m"
   ]
  },
  {
   "cell_type": "code",
   "execution_count": 9,
   "metadata": {
    "collapsed": false
   },
   "outputs": [
    {
     "name": "stdout",
     "output_type": "stream",
     "text": [
      "3.14159265359\n",
      "32.0\n"
     ]
    }
   ],
   "source": [
    "print m.pi\n",
    "print m.pow(2,5)"
   ]
  },
  {
   "cell_type": "code",
   "execution_count": null,
   "metadata": {
    "collapsed": true
   },
   "outputs": [],
   "source": [
    "# Making your module function/variable part of your local name space."
   ]
  },
  {
   "cell_type": "code",
   "execution_count": 10,
   "metadata": {
    "collapsed": true
   },
   "outputs": [],
   "source": [
    "from math import pow,pi"
   ]
  },
  {
   "cell_type": "code",
   "execution_count": 11,
   "metadata": {
    "collapsed": false
   },
   "outputs": [
    {
     "name": "stdout",
     "output_type": "stream",
     "text": [
      "3.14159265359\n",
      "32.0\n"
     ]
    }
   ],
   "source": [
    "print pi\n",
    "print pow(2,5)"
   ]
  },
  {
   "cell_type": "code",
   "execution_count": null,
   "metadata": {
    "collapsed": true
   },
   "outputs": [],
   "source": [
    "# DONT TRY THIS AT HOME OR OFFICE\n",
    "# from math import *"
   ]
  }
 ],
 "metadata": {
  "kernelspec": {
   "display_name": "Python 2",
   "language": "python",
   "name": "python2"
  },
  "language_info": {
   "codemirror_mode": {
    "name": "ipython",
    "version": 2
   },
   "file_extension": ".py",
   "mimetype": "text/x-python",
   "name": "python",
   "nbconvert_exporter": "python",
   "pygments_lexer": "ipython2",
   "version": "2.7.6"
  }
 },
 "nbformat": 4,
 "nbformat_minor": 1
}
