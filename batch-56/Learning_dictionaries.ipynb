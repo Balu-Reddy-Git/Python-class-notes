{
 "cells": [
  {
   "cell_type": "code",
   "execution_count": null,
   "metadata": {
    "collapsed": true
   },
   "outputs": [],
   "source": [
    "# dictionaries\n",
    "# key => value\n",
    "# adhar\n",
    "# mom :<uin>(key-unique):home(value),lastname(value),bankaccount\n",
    "# dad :<uin>(key):home,lastname,bankaccount\n",
    "# kiddo:<uin>(key):home,lastname,bankaccount"
   ]
  },
  {
   "cell_type": "code",
   "execution_count": null,
   "metadata": {
    "collapsed": true
   },
   "outputs": [],
   "source": [
    "# cheatsheet\n",
    "# list - ['apple','banana'],list(),[]\n",
    "# tuple - ('apple','banana'),tuple(),()\n",
    "# dict -  {'a':'apple','b':'banana'},dict(),{}"
   ]
  },
  {
   "cell_type": "code",
   "execution_count": 3,
   "metadata": {
    "collapsed": true
   },
   "outputs": [],
   "source": [
    "my_fruits = {'a':'apple','b':'banana','c':'cherry'}\n",
    "empty_dict = {}\n",
    "empty_dict1 = dict()"
   ]
  },
  {
   "cell_type": "code",
   "execution_count": 4,
   "metadata": {
    "collapsed": false
   },
   "outputs": [
    {
     "name": "stdout",
     "output_type": "stream",
     "text": [
      "{'a': 'apple', 'c': 'cherry', 'b': 'banana'} <type 'dict'>\n",
      "{} <type 'dict'>\n",
      "{} <type 'dict'>\n"
     ]
    }
   ],
   "source": [
    "print my_fruits,type(my_fruits)\n",
    "print empty_dict,type(empty_dict)\n",
    "print empty_dict1,type(empty_dict1)"
   ]
  },
  {
   "cell_type": "code",
   "execution_count": 5,
   "metadata": {
    "collapsed": false
   },
   "outputs": [
    {
     "data": {
      "text/plain": [
       "'apple'"
      ]
     },
     "execution_count": 5,
     "metadata": {},
     "output_type": "execute_result"
    }
   ],
   "source": [
    "# extraction of values\n",
    "my_fruits['a']"
   ]
  },
  {
   "cell_type": "code",
   "execution_count": 6,
   "metadata": {
    "collapsed": false
   },
   "outputs": [
    {
     "name": "stdout",
     "output_type": "stream",
     "text": [
      "{'a': 'apple', 'c': 'cherry', 'b': 'banana', 'd': 'dates'}\n"
     ]
    }
   ],
   "source": [
    "# inserting values into dict\n",
    "my_fruits['d']='dates'\n",
    "print my_fruits"
   ]
  },
  {
   "cell_type": "code",
   "execution_count": 7,
   "metadata": {
    "collapsed": false
   },
   "outputs": [
    {
     "name": "stdout",
     "output_type": "stream",
     "text": [
      "{'a': 'apricot', 'c': 'cherry', 'b': 'banana', 'd': 'dates'}\n"
     ]
    }
   ],
   "source": [
    "# replace\n",
    "my_fruits['a'] = 'apricot'\n",
    "print my_fruits"
   ]
  },
  {
   "cell_type": "code",
   "execution_count": null,
   "metadata": {
    "collapsed": true
   },
   "outputs": [],
   "source": []
  }
 ],
 "metadata": {
  "kernelspec": {
   "display_name": "Python 2",
   "language": "python",
   "name": "python2"
  },
  "language_info": {
   "codemirror_mode": {
    "name": "ipython",
    "version": 2
   },
   "file_extension": ".py",
   "mimetype": "text/x-python",
   "name": "python",
   "nbconvert_exporter": "python",
   "pygments_lexer": "ipython2",
   "version": "2.7.6"
  }
 },
 "nbformat": 4,
 "nbformat_minor": 1
}
