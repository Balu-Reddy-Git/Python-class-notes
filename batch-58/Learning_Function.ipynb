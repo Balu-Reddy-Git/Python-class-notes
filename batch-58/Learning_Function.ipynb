{
 "cells": [
  {
   "cell_type": "code",
   "execution_count": null,
   "metadata": {
    "collapsed": true
   },
   "outputs": [],
   "source": [
    "# Function\n",
    "# Its a block of code."
   ]
  },
  {
   "cell_type": "code",
   "execution_count": 6,
   "metadata": {
    "collapsed": true
   },
   "outputs": [],
   "source": [
    "# function\n",
    "def my_fun():\n",
    "    print \"hello world\"\n",
    "    \n",
    "def my_func():\n",
    "    return \"hello world\"\n",
    "    print \"how are you\"\n",
    "    print \"what are you doing\""
   ]
  },
  {
   "cell_type": "code",
   "execution_count": 3,
   "metadata": {
    "collapsed": false
   },
   "outputs": [
    {
     "name": "stdout",
     "output_type": "stream",
     "text": [
      "hello world\n",
      "None\n"
     ]
    }
   ],
   "source": [
    "# Every function has a return value.\n",
    "# if your function has no return value it gives None.\n",
    "print my_fun()"
   ]
  },
  {
   "cell_type": "code",
   "execution_count": 7,
   "metadata": {
    "collapsed": false
   },
   "outputs": [
    {
     "name": "stdout",
     "output_type": "stream",
     "text": [
      "hello world\n"
     ]
    }
   ],
   "source": [
    "# If you have a return value in a function, that is the last statement to be executed in function.\n",
    "# return is not a print statement.\n",
    "# it marks end of the function.\n",
    "print my_func()"
   ]
  },
  {
   "cell_type": "code",
   "execution_count": 10,
   "metadata": {
    "collapsed": false
   },
   "outputs": [
    {
     "name": "stdout",
     "output_type": "stream",
     "text": [
      "<type 'function'>\n",
      "<function my_func at 0x7fa78c28ae60>\n"
     ]
    },
    {
     "data": {
      "text/plain": [
       "<function __main__.my_func>"
      ]
     },
     "execution_count": 10,
     "metadata": {},
     "output_type": "execute_result"
    }
   ],
   "source": [
    "print type(my_func)\n",
    "print my_func\n",
    "my_func"
   ]
  },
  {
   "cell_type": "code",
   "execution_count": 12,
   "metadata": {
    "collapsed": false
   },
   "outputs": [
    {
     "name": "stdout",
     "output_type": "stream",
     "text": [
      "{'a': 1}\n",
      "1\n"
     ]
    },
    {
     "ename": "NameError",
     "evalue": "name 'a' is not defined",
     "output_type": "error",
     "traceback": [
      "\u001b[0;31m---------------------------------------------------------------------------\u001b[0m",
      "\u001b[0;31mNameError\u001b[0m                                 Traceback (most recent call last)",
      "\u001b[0;32m<ipython-input-12-a3823ea901f1>\u001b[0m in \u001b[0;36m<module>\u001b[0;34m()\u001b[0m\n\u001b[1;32m     11\u001b[0m \u001b[0;34m\u001b[0m\u001b[0m\n\u001b[1;32m     12\u001b[0m \u001b[0;32mprint\u001b[0m \u001b[0mmy_new\u001b[0m\u001b[0;34m(\u001b[0m\u001b[0;34m)\u001b[0m \u001b[0;31m# 1\u001b[0m\u001b[0;34m\u001b[0m\u001b[0m\n\u001b[0;32m---> 13\u001b[0;31m \u001b[0;32mprint\u001b[0m \u001b[0ma\u001b[0m  \u001b[0;31m# 1,error\u001b[0m\u001b[0;34m\u001b[0m\u001b[0m\n\u001b[0m",
      "\u001b[0;31mNameError\u001b[0m: name 'a' is not defined"
     ]
    }
   ],
   "source": [
    "# scope\n",
    "# local scope/namespace and global scope/namespace.\n",
    "# values defined inside a function are restricted to the function.\n",
    "# life space of a variable is during the runtime of the function.\n",
    "# locals() : is a inbuild function to see only local namespaces\n",
    "# \n",
    "\n",
    "def my_new():\n",
    "    a = 1\n",
    "    print locals()\n",
    "    return a\n",
    "\n",
    "print my_new() # 1\n",
    "print a  # 1,error"
   ]
  },
  {
   "cell_type": "code",
   "execution_count": 14,
   "metadata": {
    "collapsed": false
   },
   "outputs": [
    {
     "name": "stdout",
     "output_type": "stream",
     "text": [
      "{'_dh': [u'/home/tcloudost/Documents/git_repositories/python-batches/batch-58'], '__': '', 'my_new': <function my_new at 0x7fa7928a8140>, '_i': u'x = 10\\ndef my_new1():\\n    print locals()\\n    return x\\n\\nprint my_new1()\\nprint x', 'quit': <IPython.core.autocall.ZMQExitAutocall object at 0x7fa78c3e1290>, '__builtins__': <module '__builtin__' (built-in)>, '_ih': ['', u'# function\\ndef my_fun():\\n    print \"hello world\"', u'my_fun2()', u'print my_fun()', u'# function\\ndef my_fun():\\n    print \"hello world\"\\n    \\ndef my_func():\\n    return \"hello world\"', u'print my_func()', u'# function\\ndef my_fun():\\n    print \"hello world\"\\n    \\ndef my_func():\\n    return \"hello world\"\\n    print \"how are you\"\\n    print \"what are you doing\"', u'# If you have a return value in a function, that is the last statement to be executed in function.\\n# return is not a print statement.\\n# it marks end of the function.\\nprint my_func()', u'print type(my_func)', u'print type(my_func)\\nprint my_func', u'print type(my_func)\\nprint my_func\\nmy_func', u'# scope\\n# localscope and global scope.\\n\\ndef my_new():\\n    a = 1\\n    return a\\n\\nprint my_new() # 1\\nprint a  # 1,error', u'# scope\\n# local scope/namespace and global scope/namespace.\\n# values defined inside a function are restricted to the function.\\n# life space of a variable is during the runtime of the function.\\n# locals\\n\\ndef my_new():\\n    a = 1\\n    print locals()\\n    return a\\n\\nprint my_new() # 1\\nprint a  # 1,error', u'x = 10\\ndef my_new1():\\n    print locals()\\n    return x\\n\\nprint my_new1()\\nprint x', u'x = 10 # global variable\\nprint globals()\\n\\n\\ndef my_new1():\\n    print locals()\\n    return x\\n\\nprint my_new1()\\nprint x'], '__builtin__': <module '__builtin__' (built-in)>, '_10': <function my_func at 0x7fa78c28ae60>, 'my_new1': <function my_new1 at 0x7fa78c28acf8>, '__name__': '__main__', '___': '', '_': <function my_func at 0x7fa78c28ae60>, '_sh': <module 'IPython.core.shadowns' from '/usr/local/lib/python2.7/dist-packages/IPython/core/shadowns.pyc'>, 'my_fun': <function my_fun at 0x7fa78c2f2f50>, '_i11': u'# scope\\n# localscope and global scope.\\n\\ndef my_new():\\n    a = 1\\n    return a\\n\\nprint my_new() # 1\\nprint a  # 1,error', '_i9': u'print type(my_func)\\nprint my_func', '_i8': u'print type(my_func)', '_i7': u'# If you have a return value in a function, that is the last statement to be executed in function.\\n# return is not a print statement.\\n# it marks end of the function.\\nprint my_func()', '_i6': u'# function\\ndef my_fun():\\n    print \"hello world\"\\n    \\ndef my_func():\\n    return \"hello world\"\\n    print \"how are you\"\\n    print \"what are you doing\"', '_i5': u'print my_func()', '_i4': u'# function\\ndef my_fun():\\n    print \"hello world\"\\n    \\ndef my_func():\\n    return \"hello world\"', '_i3': u'print my_fun()', '_i2': u'my_fun2()', '_i1': u'# function\\ndef my_fun():\\n    print \"hello world\"', '__doc__': 'Automatically created module for IPython interactive environment', '_i13': u'x = 10\\ndef my_new1():\\n    print locals()\\n    return x\\n\\nprint my_new1()\\nprint x', 'my_func': <function my_func at 0x7fa78c28ae60>, '_iii': u'# scope\\n# localscope and global scope.\\n\\ndef my_new():\\n    a = 1\\n    return a\\n\\nprint my_new() # 1\\nprint a  # 1,error', '_i10': u'print type(my_func)\\nprint my_func\\nmy_func', 'exit': <IPython.core.autocall.ZMQExitAutocall object at 0x7fa78c3e1290>, 'get_ipython': <bound method ZMQInteractiveShell.get_ipython of <ipykernel.zmqshell.ZMQInteractiveShell object at 0x7fa795044950>>, '_ii': u'# scope\\n# local scope/namespace and global scope/namespace.\\n# values defined inside a function are restricted to the function.\\n# life space of a variable is during the runtime of the function.\\n# locals\\n\\ndef my_new():\\n    a = 1\\n    print locals()\\n    return a\\n\\nprint my_new() # 1\\nprint a  # 1,error', 'In': ['', u'# function\\ndef my_fun():\\n    print \"hello world\"', u'my_fun2()', u'print my_fun()', u'# function\\ndef my_fun():\\n    print \"hello world\"\\n    \\ndef my_func():\\n    return \"hello world\"', u'print my_func()', u'# function\\ndef my_fun():\\n    print \"hello world\"\\n    \\ndef my_func():\\n    return \"hello world\"\\n    print \"how are you\"\\n    print \"what are you doing\"', u'# If you have a return value in a function, that is the last statement to be executed in function.\\n# return is not a print statement.\\n# it marks end of the function.\\nprint my_func()', u'print type(my_func)', u'print type(my_func)\\nprint my_func', u'print type(my_func)\\nprint my_func\\nmy_func', u'# scope\\n# localscope and global scope.\\n\\ndef my_new():\\n    a = 1\\n    return a\\n\\nprint my_new() # 1\\nprint a  # 1,error', u'# scope\\n# local scope/namespace and global scope/namespace.\\n# values defined inside a function are restricted to the function.\\n# life space of a variable is during the runtime of the function.\\n# locals\\n\\ndef my_new():\\n    a = 1\\n    print locals()\\n    return a\\n\\nprint my_new() # 1\\nprint a  # 1,error', u'x = 10\\ndef my_new1():\\n    print locals()\\n    return x\\n\\nprint my_new1()\\nprint x', u'x = 10 # global variable\\nprint globals()\\n\\n\\ndef my_new1():\\n    print locals()\\n    return x\\n\\nprint my_new1()\\nprint x'], '_i12': u'# scope\\n# local scope/namespace and global scope/namespace.\\n# values defined inside a function are restricted to the function.\\n# life space of a variable is during the runtime of the function.\\n# locals\\n\\ndef my_new():\\n    a = 1\\n    print locals()\\n    return a\\n\\nprint my_new() # 1\\nprint a  # 1,error', 'x': 10, '_i14': u'x = 10 # global variable\\nprint globals()\\n\\n\\ndef my_new1():\\n    print locals()\\n    return x\\n\\nprint my_new1()\\nprint x', '_oh': {10: <function my_func at 0x7fa78c28ae60>}, 'Out': {10: <function my_func at 0x7fa78c28ae60>}}\n",
      "{}\n",
      "10\n",
      "10\n"
     ]
    }
   ],
   "source": [
    "# globals() : its a inbuild function which shows you all the variables, which are availabel to us.\n",
    "\n",
    "x = 10 # global variable\n",
    "print globals()\n",
    "\n",
    "\n",
    "def my_new1():\n",
    "    print locals()\n",
    "    return x\n",
    "\n",
    "print my_new1() # 10\n",
    "# we got a value 10 for the function call as x is avaible globally.\n",
    "# the first priority is given to local scope and then global scope.\n",
    "print x"
   ]
  },
  {
   "cell_type": "code",
   "execution_count": 15,
   "metadata": {
    "collapsed": false
   },
   "outputs": [
    {
     "name": "stdout",
     "output_type": "stream",
     "text": [
      "{'x': 2}\n",
      "2\n",
      "10\n"
     ]
    }
   ],
   "source": [
    "x = 10\n",
    "def my_new1():\n",
    "    x = 2\n",
    "    print locals()\n",
    "    return x\n",
    "\n",
    "print my_new1() # 2\n",
    "print x # 10"
   ]
  },
  {
   "cell_type": "code",
   "execution_count": null,
   "metadata": {
    "collapsed": true
   },
   "outputs": [],
   "source": []
  }
 ],
 "metadata": {
  "kernelspec": {
   "display_name": "Python 2",
   "language": "python",
   "name": "python2"
  },
  "language_info": {
   "codemirror_mode": {
    "name": "ipython",
    "version": 2
   },
   "file_extension": ".py",
   "mimetype": "text/x-python",
   "name": "python",
   "nbconvert_exporter": "python",
   "pygments_lexer": "ipython2",
   "version": "2.7.6"
  }
 },
 "nbformat": 4,
 "nbformat_minor": 1
}
