{
 "cells": [
  {
   "cell_type": "code",
   "execution_count": null,
   "metadata": {
    "collapsed": true
   },
   "outputs": [],
   "source": [
    "# modules\n",
    "# module is a collection of functions/variables which can be used later.\n",
    "# f1.py - fun1,fun2,fun3,fun4,fun5\n",
    "# f2.py - fun1,fun2,fun3,f1.fun1\n",
    "# this makes sure we dont have to deal with program namespaces."
   ]
  },
  {
   "cell_type": "code",
   "execution_count": null,
   "metadata": {
    "collapsed": true
   },
   "outputs": [],
   "source": [
    "# why do you save your program as .py ?\n",
    "# if you dont save your program as a .py , you cannot use it as module in future."
   ]
  },
  {
   "cell_type": "code",
   "execution_count": 1,
   "metadata": {
    "collapsed": false
   },
   "outputs": [
    {
     "name": "stdout",
     "output_type": "stream",
     "text": [
      "\n",
      "Welcome to Python 2.7!  This is the online help utility.\n",
      "\n",
      "If this is your first time using Python, you should definitely check out\n",
      "the tutorial on the Internet at http://docs.python.org/2.7/tutorial/.\n",
      "\n",
      "Enter the name of any module, keyword, or topic to get help on writing\n",
      "Python programs and using Python modules.  To quit this help utility and\n",
      "return to the interpreter, just type \"quit\".\n",
      "\n",
      "To get a list of available modules, keywords, or topics, type \"modules\",\n",
      "\"keywords\", or \"topics\".  Each module also comes with a one-line summary\n",
      "of what it does; to list the modules whose summaries contain a given word\n",
      "such as \"spam\", type \"modules spam\".\n",
      "\n",
      "help> modules\n",
      "\n",
      "Please wait a moment while I gather a list of all available modules...\n",
      "\n"
     ]
    },
    {
     "name": "stderr",
     "output_type": "stream",
     "text": [
      "/usr/local/lib/python2.7/dist-packages/IPython/kernel/__init__.py:13: ShimWarning: The `IPython.kernel` package has been deprecated. You should import from ipykernel or jupyter_client instead.\n",
      "  \"You should import from ipykernel or jupyter_client instead.\", ShimWarning)\n",
      "/usr/lib/python2.7/dist-packages/gobject/constants.py:24: Warning: g_boxed_type_register_static: assertion 'g_type_from_name (name) == 0' failed\n",
      "  import gobject._gobject\n",
      "No handlers could be found for logger \"oneconf.distributor\"\n",
      "/usr/lib/python2.7/dist-packages/gtk-2.0/gtk/__init__.py:127: RuntimeWarning: PyOS_InputHook is not available for interactive use of PyGTK\n",
      "  set_interactive(1)\n"
     ]
    },
    {
     "name": "stdout",
     "output_type": "stream",
     "text": [
      "ANSI                apt                 gtkunixprint        requests\n",
      "AptUrl              apt_inst            gzip                resource\n",
      "BaseHTTPServer      apt_pkg             hashlib             rexec\n",
      "Bastion             aptdaemon           heapq               rfc822\n",
      "BeautifulSoup       aptsources          hmac                rlcompleter\n",
      "BeautifulSoupTests  argparse            hotshot             rmagic\n",
      "CDROM               array               html5lib            robotparser\n",
      "CGIHTTPServer       ast                 htmlentitydefs      runpy\n",
      "Canvas              asynchat            htmllib             samba\n",
      "CommandNotFound     asyncore            httplib             sched\n",
      "ConfigParser        atexit              httplib2            screen\n",
      "Cookie              atk                 idlelib             select\n",
      "Crypto              audiodev            ihooks              serial\n",
      "DLFCN               audioop             imaplib             sessioninstaller\n",
      "Dialog              autoreload          imghdr              sets\n",
      "DocXMLRPCServer     axi                 imp                 setuptools\n",
      "Exscript            backports           importlib           sexy\n",
      "Exscriptd           backports_abc       imputil             sgmllib\n",
      "FSM                 base64              inspect             sha\n",
      "FileDialog          bdb                 io                  shelve\n",
      "FixTk               binascii            ipykernel           shlex\n",
      "HTMLParser          binhex              ipython_genutils    shutil\n",
      "IN                  bisect              ipywidgets          shutil_backports\n",
      "IPython             bonobo              itertools           signal\n",
      "Image               bpdb                jinja2              simplegeneric\n",
      "ImageChops          bpython             json                singledispatch\n",
      "ImageColor          bsddb               jsonschema          singledispatch_helpers\n",
      "ImageCrackCode      bz2                 jupyter             sip\n",
      "ImageDraw           cPickle             jupyter_client      sipconfig\n",
      "ImageEnhance        cProfile            jupyter_console     sipconfig_nd\n",
      "ImageFile           cStringIO           jupyter_core        site\n",
      "ImageFileIO         cairo               keyword             sitecustomize\n",
      "ImageFilter         calendar            ldb                 six\n",
      "ImageFont           caribou             lib2to3             smbc\n",
      "ImageGL             certifi             libxml2             smtpd\n",
      "ImageGrab           cgi                 libxml2mod          smtplib\n",
      "ImageMath           cgitb               linecache           sndhdr\n",
      "ImageOps            chardet             linuxaudiodev       socket\n",
      "ImagePalette        chunk               locale              spwd\n",
      "ImagePath           cmath               lockfile            spyderlib\n",
      "ImageQt             cmd                 logging             spyderplugins\n",
      "ImageSequence       code                lsb_release         sqlite3\n",
      "ImageStat           codecs              lxml                sre\n",
      "ImageTk             codeop              macpath             sre_compile\n",
      "ImageWin            collections         macurl2path         sre_constants\n",
      "MimeWriter          colorama            mailbox             sre_parse\n",
      "MySQLdb             colorsys            mailcap             ssl\n",
      "ORBit               commands            mako                stat\n",
      "OpenSSL             compileall          markupbase          statvfs\n",
      "PAM                 compiler            markupsafe          storemagic\n",
      "PIL                 configglue          marshal             string\n",
      "PSDraw              configobj           math                stringold\n",
      "PngImagePlugin      configparser        md5                 stringprep\n",
      "PyQt4               contextlib          mhlib               strop\n",
      "Queue               cookielib           mimetools           struct\n",
      "ScrolledText        copy                mimetypes           subprocess\n",
      "SimpleDialog        copy_reg            mimify              sunau\n",
      "SimpleHTTPServer    crypt               mistune             sunaudio\n",
      "SimpleXMLRPCServer  csv                 mmap                symbol\n",
      "SocketServer        ctypes              modulefinder        sympyprinting\n",
      "StringIO            cups                multifile           symtable\n",
      "TYPES               cupshelpers         multiprocessing     sys\n",
      "Tix                 curl                mutex               sysconfig\n",
      "TkExscript          curses              mysql               syslog\n",
      "Tkconstants         cv                  nbconvert           tabnanny\n",
      "Tkdnd               cv2                 nbformat            talloc\n",
      "Tkinter             cythonmagic         netrc               tarfile\n",
      "UbuntuSystemService datetime            new                 tdb\n",
      "UserDict            dbhash              nis                 telnetlib\n",
      "UserList            dbm                 nntplib             tempfile\n",
      "UserString          dbus                notebook            terminado\n",
      "_LWPCookieJar       deb822              ntdb                termios\n",
      "_MozillaCookieJar   debconf             ntpath              test\n",
      "__builtin__         debian              nturl2path          tests\n",
      "__future__          debian_bundle       numbers             textwrap\n",
      "_abcoll             debtagshw           numpy               this\n",
      "_ast                decimal             oauthlib            thread\n",
      "_bisect             decorator           oneconf             threading\n",
      "_bsddb              defer               opcode              tidy\n",
      "_codecs             difflib             operator            time\n",
      "_codecs_cn          dircache            optparse            timeit\n",
      "_codecs_hk          dirspec             os                  tkColorChooser\n",
      "_codecs_iso2022     dis                 os2emxpath          tkCommonDialog\n",
      "_codecs_jp          distlib             ossaudiodev         tkFileDialog\n",
      "_codecs_kr          distutils           pango               tkFont\n",
      "_codecs_tw          django              pangocairo          tkMessageBox\n",
      "_collections        dns                 paramiko            tkSimpleDialog\n",
      "_csv                doctest             parser              toaiff\n",
      "_ctypes             drv_libxml2         parted              token\n",
      "_ctypes_test        dsextras            pathlib2            tokenize\n",
      "_curses             dumbdbm             pdb                 tornado\n",
      "_curses_panel       dummy_thread        pexpect             trace\n",
      "_dbus_bindings      dummy_threading     pickle              traceback\n",
      "_dbus_glib_bindings duplicity           pickleshare         traitlets\n",
      "_elementtree        easy_install        pickletools         ttk\n",
      "_functools          email               pip                 tty\n",
      "_hashlib            encodings           pipes               turtle\n",
      "_heapq              entrypoints         piston_mini_client  twisted\n",
      "_hotshot            errno               pkg_resources       types\n",
      "_io                 exceptions          pkgutil             ubuntu_sso\n",
      "_json               fabfile             platform            unicodedata\n",
      "_locale             fabric              plistlib            unittest\n",
      "_lsprof             fcntl               popen2              urllib\n",
      "_markerlib          fdpexpect           poplib              urllib2\n",
      "_md5                feedparser          posix               urllib3\n",
      "_multibytecodec     filecmp             posixfile           urlparse\n",
      "_multiprocessing    fileinput           posixpath           user\n",
      "_mysql              fnmatch             pprint              uu\n",
      "_mysql_exceptions   formatter           profile             uuid\n",
      "_osx_support        fpectl              prompt_toolkit      validate\n",
      "_ped                fpformat            pstats              virtualenv\n",
      "_pyio               fractions           pty                 vte\n",
      "_random             ftplib              ptyprocess          warnings\n",
      "_sha                functools           pwd                 wave\n",
      "_sha256             functools32         pxssh               wcwidth\n",
      "_sha512             future_builtins     py_compile          weakref\n",
      "_smbc               gc                  pyatspi             webbrowser\n",
      "_socket             gconf               pyclbr              webkit\n",
      "_sqlite3            gdbm                pycurl              whichdb\n",
      "_sre                genericpath         pydoc               widgetsnbextension\n",
      "_ssl                getopt              pydoc_data          wsgiref\n",
      "_strptime           getpass             pyexpat             xapian\n",
      "_struct             gettext             pygments            xdg\n",
      "_symtable           gi                  pygtk               xdrlib\n",
      "_sysconfigdata      gio                 pygtkcompat         xml\n",
      "_sysconfigdata_nd   glib                pyinotify           xmllib\n",
      "_testcapi           glob                pynotify            xmlrpclib\n",
      "_threading_local    gnome               pyodbc              xxsubtype\n",
      "_tkinter            gnomecanvas         pysqlite2           zipfile\n",
      "_warnings           gnomekeyring        qtconsole           zipimport\n",
      "_weakref            gnomevfs            quopri              zlib\n",
      "_weakrefset         gobject             random              zmq\n",
      "abc                 google              re                  zope\n",
      "aifc                grp                 readline            \n",
      "antigravity         gtk                 reportlab           \n",
      "anydbm              gtksourceview2      repr                \n",
      "\n",
      "Enter any module name to get more help.  Or, type \"modules spam\" to search\n",
      "for modules whose descriptions contain the word \"spam\".\n",
      "\n",
      "help> quit\n",
      "\n",
      "You are now leaving help and returning to the Python interpreter.\n",
      "If you want to ask for help on a particular object directly from the\n",
      "interpreter, you can type \"help(object)\".  Executing \"help('string')\"\n",
      "has the same effect as typing a particular string at the help> prompt.\n"
     ]
    }
   ],
   "source": [
    "# modules\n",
    "help()"
   ]
  },
  {
   "cell_type": "code",
   "execution_count": 2,
   "metadata": {
    "collapsed": true
   },
   "outputs": [],
   "source": [
    "# math\n",
    "import math"
   ]
  },
  {
   "cell_type": "code",
   "execution_count": 3,
   "metadata": {
    "collapsed": false
   },
   "outputs": [
    {
     "name": "stdout",
     "output_type": "stream",
     "text": [
      "['__doc__', '__name__', '__package__', 'acos', 'acosh', 'asin', 'asinh', 'atan', 'atan2', 'atanh', 'ceil', 'copysign', 'cos', 'cosh', 'degrees', 'e', 'erf', 'erfc', 'exp', 'expm1', 'fabs', 'factorial', 'floor', 'fmod', 'frexp', 'fsum', 'gamma', 'hypot', 'isinf', 'isnan', 'ldexp', 'lgamma', 'log', 'log10', 'log1p', 'modf', 'pi', 'pow', 'radians', 'sin', 'sinh', 'sqrt', 'tan', 'tanh', 'trunc']\n"
     ]
    }
   ],
   "source": [
    "print dir(math)\n",
    "# or\n",
    "# math.<tab> in ipython"
   ]
  },
  {
   "cell_type": "code",
   "execution_count": 4,
   "metadata": {
    "collapsed": false
   },
   "outputs": [
    {
     "name": "stdout",
     "output_type": "stream",
     "text": [
      "3.14159265359\n"
     ]
    }
   ],
   "source": [
    "print math.pi"
   ]
  },
  {
   "cell_type": "code",
   "execution_count": 5,
   "metadata": {
    "collapsed": false
   },
   "outputs": [
    {
     "name": "stdout",
     "output_type": "stream",
     "text": [
      "Help on built-in function pow in module math:\n",
      "\n",
      "pow(...)\n",
      "    pow(x, y)\n",
      "    \n",
      "    Return x**y (x to the power of y).\n",
      "\n",
      "None\n"
     ]
    }
   ],
   "source": [
    "print help(math.pow)"
   ]
  },
  {
   "cell_type": "code",
   "execution_count": 6,
   "metadata": {
    "collapsed": false
   },
   "outputs": [
    {
     "name": "stdout",
     "output_type": "stream",
     "text": [
      "8.0\n"
     ]
    }
   ],
   "source": [
    "print math.pow(2,3)"
   ]
  },
  {
   "cell_type": "code",
   "execution_count": null,
   "metadata": {
    "collapsed": true
   },
   "outputs": [],
   "source": [
    "# type 2"
   ]
  },
  {
   "cell_type": "code",
   "execution_count": 7,
   "metadata": {
    "collapsed": true
   },
   "outputs": [],
   "source": [
    "import math as m"
   ]
  },
  {
   "cell_type": "code",
   "execution_count": 8,
   "metadata": {
    "collapsed": false
   },
   "outputs": [
    {
     "name": "stdout",
     "output_type": "stream",
     "text": [
      "3.14159265359\n",
      "8.0\n"
     ]
    }
   ],
   "source": [
    "print m.pi\n",
    "print m.pow(2,3)"
   ]
  },
  {
   "cell_type": "code",
   "execution_count": 9,
   "metadata": {
    "collapsed": true
   },
   "outputs": [],
   "source": [
    "# type 3"
   ]
  },
  {
   "cell_type": "code",
   "execution_count": 10,
   "metadata": {
    "collapsed": false
   },
   "outputs": [
    {
     "name": "stdout",
     "output_type": "stream",
     "text": [
      "3.14159265359\n",
      "8.0\n"
     ]
    }
   ],
   "source": [
    "# your are making pi and pow part of local namespace\n",
    "from math import pi,pow\n",
    "print pi\n",
    "print pow(2,3)"
   ]
  },
  {
   "cell_type": "code",
   "execution_count": 11,
   "metadata": {
    "collapsed": true
   },
   "outputs": [],
   "source": [
    "# type 4\n",
    "# DONT TRY THIS AT HOME AND OFFICE.\n",
    "# from math import *"
   ]
  },
  {
   "cell_type": "code",
   "execution_count": null,
   "metadata": {
    "collapsed": true
   },
   "outputs": [],
   "source": [
    "# location of first.py under modules folder"
   ]
  },
  {
   "cell_type": "raw",
   "metadata": {},
   "source": [
    "In [4]: pwd\n",
    "Out[4]: u'/home/tcloudost/Documents/git_repositories/python-batches/batch-58/modules'\n",
    "\n",
    "In [5]: ls\n",
    "first.py  Learning_Modules.ipynb\n",
    "\n",
    "In [6]: import first as f\n",
    "\n",
    "In [7]: print dir(f)\n",
    "['__builtins__', '__doc__', '__file__', '__name__', '__package__', 'my_add', 'my_div', 'my_multi', 'my_sub', 'version']\n",
    "\n",
    "In [8]: f.my_add?\n",
    "Signature: f.my_add(a, b)\n",
    "Docstring: This is for addition of number/strings \n",
    "File:      ~/Documents/git_repositories/python-batches/batch-58/modules/first.py\n",
    "Type:      function\n",
    "\n",
    "In [9]: f.my_sub?\n",
    "Signature: f.my_sub(a, b)\n",
    "Docstring: This is for substraction of number \n",
    "File:      ~/Documents/git_repositories/python-batches/batch-58/modules/first.py\n",
    "Type:      function\n",
    "\n",
    "In [10]: f.version\n",
    "Out[10]: 1.0\n",
    "\n",
    "In [11]: f.my_add(1,2)\n",
    "Out[11]: 3\n",
    "\n",
    "In [12]: f.my_add('linux','rocks')\n",
    "Out[12]: 'linuxrocks'\n",
    "\n",
    "# made a modification of version=2.0 in my first.py program.\n",
    "In [13]: f.version\n",
    "Out[13]: 1.0\n",
    "\n",
    "In [14]: import first as f\n",
    "\n",
    "In [15]: f.version\n",
    "Out[15]: 1.0\n",
    "\n",
    "In [16]: ls\n",
    "first.py  first.pyc  Learning_Modules.ipynb\n",
    "\n",
    "In [17]: reload(f)\n",
    "Out[17]: <module 'first' from 'first.py'>\n",
    "\n",
    "In [18]: f.version\n",
    "Out[18]: 2.0\n",
    "\n",
    "\n",
    "tcloudost@tcloudost-VirtualBox ~/Documents/git_repositories/python-batches/batch-58/modules $ file first.pyc\n",
    "first.pyc: python 2.7 byte-compiled\n",
    "tcloudost@tcloudost-VirtualBox ~/Documents/git_repositories/python-batches/batch-58/modules $ cat fist.pyc\n",
    "cat: fist.pyc: No such file or directory\n",
    "tcloudost@tcloudost-VirtualBox ~/Documents/git_repositories/python-batches/batch-58/modules $ cat first.pyc\n"
   ]
  }
 ],
 "metadata": {
  "kernelspec": {
   "display_name": "Python 2",
   "language": "python",
   "name": "python2"
  },
  "language_info": {
   "codemirror_mode": {
    "name": "ipython",
    "version": 2
   },
   "file_extension": ".py",
   "mimetype": "text/x-python",
   "name": "python",
   "nbconvert_exporter": "python",
   "pygments_lexer": "ipython2",
   "version": "2.7.6"
  }
 },
 "nbformat": 4,
 "nbformat_minor": 1
}
