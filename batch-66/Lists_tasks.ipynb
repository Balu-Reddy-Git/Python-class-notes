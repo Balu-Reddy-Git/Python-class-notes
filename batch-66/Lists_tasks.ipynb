{
 "cells": [
  {
   "cell_type": "code",
   "execution_count": 1,
   "metadata": {},
   "outputs": [],
   "source": [
    "days = ['yesterday','today','tomorrow','dayafter']"
   ]
  },
  {
   "cell_type": "code",
   "execution_count": 2,
   "metadata": {},
   "outputs": [
    {
     "name": "stdout",
     "output_type": "stream",
     "text": [
      "yesterday 9\n",
      "today 5\n",
      "tomorrow 8\n",
      "dayafter 8\n"
     ]
    }
   ],
   "source": [
    "# task1\n",
    "for value in days:\n",
    "    print value,len(value)"
   ]
  },
  {
   "cell_type": "code",
   "execution_count": 4,
   "metadata": {},
   "outputs": [
    {
     "name": "stdout",
     "output_type": "stream",
     "text": [
      "yesterday 0\n",
      "today 1\n",
      "tomorrow 2\n",
      "dayafter 3\n"
     ]
    }
   ],
   "source": [
    "# task2\n",
    "for value in days:\n",
    "    print value,days.index(value)"
   ]
  },
  {
   "cell_type": "code",
   "execution_count": 5,
   "metadata": {},
   "outputs": [
    {
     "name": "stdout",
     "output_type": "stream",
     "text": [
      "yesterday 0 y\n",
      "today 1 o\n",
      "tomorrow 2 m\n",
      "dayafter 3 a\n"
     ]
    }
   ],
   "source": [
    "for value in days:\n",
    "    print value,days.index(value),value[days.index(value)]"
   ]
  },
  {
   "cell_type": "code",
   "execution_count": 7,
   "metadata": {},
   "outputs": [
    {
     "name": "stdout",
     "output_type": "stream",
     "text": [
      "yesterday 0 y\n",
      "today 1 to\n",
      "tomorrow 2 tom\n",
      "dayafter 3 daya\n"
     ]
    }
   ],
   "source": [
    "for value in days:\n",
    "    print value,days.index(value),value[0:days.index(value) + 1]"
   ]
  },
  {
   "cell_type": "code",
   "execution_count": 8,
   "metadata": {},
   "outputs": [
    {
     "name": "stdout",
     "output_type": "stream",
     "text": [
      "pyt\n",
      "pyt\n",
      "hon\n",
      "python\n"
     ]
    }
   ],
   "source": [
    "# my_string\n",
    "my_string=\"python\"\n",
    "print my_string[0:3] # pyt\n",
    "print my_string[:3] # pyt\n",
    "print my_string[3:] # hon\n",
    "print my_string[:3] + my_string[3:]"
   ]
  },
  {
   "cell_type": "code",
   "execution_count": 10,
   "metadata": {},
   "outputs": [
    {
     "name": "stdout",
     "output_type": "stream",
     "text": [
      "Yesterday\n",
      "TOday\n",
      "TOMorrow\n",
      "DAYAfter\n"
     ]
    }
   ],
   "source": [
    "for value in days:\n",
    "    print value[:days.index(value) + 1].upper() + value[days.index(value) + 1:]"
   ]
  },
  {
   "cell_type": "code",
   "execution_count": null,
   "metadata": {},
   "outputs": [],
   "source": []
  }
 ],
 "metadata": {
  "kernelspec": {
   "display_name": "Python 2",
   "language": "python",
   "name": "python2"
  },
  "language_info": {
   "codemirror_mode": {
    "name": "ipython",
    "version": 2
   },
   "file_extension": ".py",
   "mimetype": "text/x-python",
   "name": "python",
   "nbconvert_exporter": "python",
   "pygments_lexer": "ipython2",
   "version": "2.7.12+"
  }
 },
 "nbformat": 4,
 "nbformat_minor": 2
}
