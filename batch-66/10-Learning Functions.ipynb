{
 "cells": [
  {
   "cell_type": "raw",
   "metadata": {},
   "source": [
    "# what is function\n",
    "Function is a block of code , which can be called multiple times."
   ]
  },
  {
   "cell_type": "code",
   "execution_count": 1,
   "metadata": {},
   "outputs": [],
   "source": [
    "# A function block always starts with a def keyword.\n",
    "# A function has optional parameters.\n",
    "# Every funtion has a return value.\n",
    "# if there is no return value you get 'None'\n",
    "# Basically,every function should have a return value.\n",
    "\n",
    "def my_func():\n",
    "    print \"hello world\""
   ]
  },
  {
   "cell_type": "code",
   "execution_count": 2,
   "metadata": {},
   "outputs": [
    {
     "name": "stdout",
     "output_type": "stream",
     "text": [
      "hello world\n",
      "None\n"
     ]
    }
   ],
   "source": [
    "print my_func()"
   ]
  },
  {
   "cell_type": "code",
   "execution_count": 5,
   "metadata": {},
   "outputs": [],
   "source": [
    "# take 2\n",
    "# return is a keyword which marks the end of the funtion.\n",
    "# note: return is not a print statement.\n",
    "def my_func():\n",
    "    return \"hello world\"\n",
    "    print \"hey there\"\n",
    "    print \"how is it today\"\n",
    "    print \"hopefully it was a good monday\""
   ]
  },
  {
   "cell_type": "code",
   "execution_count": 6,
   "metadata": {},
   "outputs": [
    {
     "name": "stdout",
     "output_type": "stream",
     "text": [
      "hello world\n"
     ]
    }
   ],
   "source": [
    "print my_func()"
   ]
  },
  {
   "cell_type": "code",
   "execution_count": 7,
   "metadata": {},
   "outputs": [],
   "source": [
    "# namespaces or local/global values."
   ]
  },
  {
   "cell_type": "code",
   "execution_count": 8,
   "metadata": {},
   "outputs": [],
   "source": [
    "# Nenu local\n",
    "# variables defined inside a function are called local variables.\n",
    "# The local variables are restricted to the function.\n",
    "# there is no syntax which can access local variaable outside a function.\n",
    "# The life span of a local variable is during the run time of the function.\n",
    "def me_local():\n",
    "    a = 10\n",
    "    return a"
   ]
  },
  {
   "cell_type": "code",
   "execution_count": 9,
   "metadata": {},
   "outputs": [
    {
     "name": "stdout",
     "output_type": "stream",
     "text": [
      "10\n"
     ]
    }
   ],
   "source": [
    "print me_local()"
   ]
  },
  {
   "cell_type": "code",
   "execution_count": 10,
   "metadata": {},
   "outputs": [
    {
     "ename": "NameError",
     "evalue": "name 'a' is not defined",
     "output_type": "error",
     "traceback": [
      "\u001b[0;31m---------------------------------------------------------------------------\u001b[0m",
      "\u001b[0;31mNameError\u001b[0m                                 Traceback (most recent call last)",
      "\u001b[0;32m<ipython-input-10-d718eed2177d>\u001b[0m in \u001b[0;36m<module>\u001b[0;34m()\u001b[0m\n\u001b[0;32m----> 1\u001b[0;31m \u001b[0;32mprint\u001b[0m \u001b[0ma\u001b[0m \u001b[0;31m#\u001b[0m\u001b[0;34m\u001b[0m\u001b[0m\n\u001b[0m",
      "\u001b[0;31mNameError\u001b[0m: name 'a' is not defined"
     ]
    }
   ],
   "source": [
    "print a # "
   ]
  },
  {
   "cell_type": "code",
   "execution_count": 11,
   "metadata": {},
   "outputs": [],
   "source": [
    "# locals()\n",
    "def me_local():\n",
    "    a = 10\n",
    "    print locals()\n",
    "    return a"
   ]
  },
  {
   "cell_type": "code",
   "execution_count": 13,
   "metadata": {},
   "outputs": [
    {
     "name": "stdout",
     "output_type": "stream",
     "text": [
      "{'a': 10}\n",
      "10\n"
     ]
    }
   ],
   "source": [
    "print me_local()"
   ]
  },
  {
   "cell_type": "code",
   "execution_count": 14,
   "metadata": {},
   "outputs": [],
   "source": [
    "# global\n",
    "# first your function looks into local scope then into global scope.\n",
    "# globals() is a function(inbuild) to show us global name spaces.\n"
   ]
  },
  {
   "cell_type": "raw",
   "metadata": {},
   "source": [
    "In [4]: x = 10\n",
    "\n",
    "In [5]: def me_global():\n",
    "   ...:     x = 2\n",
    "   ...:     print locals()\n",
    "   ...:     return x\n",
    "   ...: \n",
    "\n",
    "In [6]: print me_global() # 2\n",
    "{'x': 2}\n",
    "2\n",
    "\n",
    "In [7]: print x\n",
    "10\n"
   ]
  },
  {
   "cell_type": "raw",
   "metadata": {},
   "source": [
    "In [10]: globals()\n",
    "Out[10]: \n",
    "{'In': ['',\n",
    "  u'x = 10',\n",
    "  u'def me_global():\\n    x = 2\\n    return x',\n",
    "  u\"get_ipython().magic(u'clear ')\",\n",
    "  u'x = 10',\n",
    "  u'def me_global():\\n    x = 2\\n    print locals()\\n    return x',\n",
    "  u'print me_global() # 2',\n",
    "  u'print x',\n",
    "  u'print globals()',\n",
    "  u'globals',\n",
    "  u'globals()'],\n",
    " 'Out': {9: <function globals>},\n",
    " '_': <function globals>,\n",
    " '_9': <function globals>,\n",
    " '__': '',\n",
    " '___': '',\n",
    " '__builtin__': <module '__builtin__' (built-in)>,\n",
    " '__builtins__': <module '__builtin__' (built-in)>,\n",
    " '__doc__': 'Automatically created module for IPython interactive environment',\n",
    " '__name__': '__main__',\n",
    " '_dh': [u'/home/khyaathi'],\n",
    " '_exit_code': 0,\n",
    " '_i': u'globals',\n",
    " '_i1': u'x = 10',\n",
    " '_i10': u'globals()',\n",
    " '_i2': u'def me_global():\\n    x = 2\\n    return x',\n",
    " '_i3': u'clear',\n",
    " '_i4': u'x = 10',\n",
    " '_i5': u'def me_global():\\n    x = 2\\n    print locals()\\n    return x',\n",
    " '_i6': u'print me_global() # 2',\n",
    " '_i7': u'print x',\n",
    " '_i8': u'print globals()',\n",
    " '_i9': u'globals',\n",
    " '_ih': ['',\n",
    "  u'x = 10',\n",
    "  u'def me_global():\\n    x = 2\\n    return x',\n",
    "  u\"get_ipython().magic(u'clear ')\",\n",
    "  u'x = 10',\n",
    "  u'def me_global():\\n    x = 2\\n    print locals()\\n    return x',\n",
    "  u'print me_global() # 2',\n",
    "  u'print x',\n",
    "  u'print globals()',\n",
    "  u'globals',\n",
    "  u'globals()'],\n",
    " '_ii': u'print globals()',\n",
    " '_iii': u'print x',\n",
    " '_oh': {9: <function globals>},\n",
    " '_sh': <module 'IPython.core.shadowns' from '/usr/local/lib/python2.7/dist-packages/IPython/core/shadowns.pyc'>,\n",
    " 'exit': <IPython.core.autocall.ExitAutocall at 0x7f0b4fd386d0>,\n",
    " 'get_ipython': <bound method TerminalInteractiveShell.get_ipython of <IPython.terminal.interactiveshell.TerminalInteractiveShell object at 0x7f0b4fd4a090>>,\n",
    " 'me_global': <function __main__.me_global>,\n",
    " 'quit': <IPython.core.autocall.ExitAutocall at 0x7f0b4fd386d0>,\n",
    " 'x': 10}\n",
    "\n"
   ]
  },
  {
   "cell_type": "code",
   "execution_count": 17,
   "metadata": {},
   "outputs": [],
   "source": [
    "# take 3\n",
    "# if there is no variables in local namespace , we will go to global namespace.\n",
    "x = 10\n",
    "def me_global():\n",
    "    print locals()\n",
    "    return x"
   ]
  },
  {
   "cell_type": "code",
   "execution_count": 16,
   "metadata": {},
   "outputs": [
    {
     "name": "stdout",
     "output_type": "stream",
     "text": [
      "{}\n",
      "10\n"
     ]
    }
   ],
   "source": [
    "print me_global()"
   ]
  },
  {
   "cell_type": "code",
   "execution_count": 20,
   "metadata": {},
   "outputs": [
    {
     "name": "stdout",
     "output_type": "stream",
     "text": [
      "10\n"
     ]
    }
   ],
   "source": [
    "print globals()['x']"
   ]
  },
  {
   "cell_type": "code",
   "execution_count": 23,
   "metadata": {},
   "outputs": [],
   "source": [
    "# global\n",
    "\n",
    "balance = 0  # global\n",
    "def my_deposit():\n",
    "    print locals()\n",
    "    balance = balance + 10000\n",
    "    return balance\n",
    "    "
   ]
  },
  {
   "cell_type": "code",
   "execution_count": 24,
   "metadata": {},
   "outputs": [
    {
     "name": "stdout",
     "output_type": "stream",
     "text": [
      "{}\n"
     ]
    },
    {
     "ename": "UnboundLocalError",
     "evalue": "local variable 'balance' referenced before assignment",
     "output_type": "error",
     "traceback": [
      "\u001b[0;31m---------------------------------------------------------------------------\u001b[0m",
      "\u001b[0;31mUnboundLocalError\u001b[0m                         Traceback (most recent call last)",
      "\u001b[0;32m<ipython-input-24-87870cd62757>\u001b[0m in \u001b[0;36m<module>\u001b[0;34m()\u001b[0m\n\u001b[0;32m----> 1\u001b[0;31m \u001b[0;32mprint\u001b[0m \u001b[0mmy_deposit\u001b[0m\u001b[0;34m(\u001b[0m\u001b[0;34m)\u001b[0m\u001b[0;34m\u001b[0m\u001b[0m\n\u001b[0m",
      "\u001b[0;32m<ipython-input-23-b12fdeb8d484>\u001b[0m in \u001b[0;36mmy_deposit\u001b[0;34m()\u001b[0m\n\u001b[1;32m      4\u001b[0m \u001b[0;32mdef\u001b[0m \u001b[0mmy_deposit\u001b[0m\u001b[0;34m(\u001b[0m\u001b[0;34m)\u001b[0m\u001b[0;34m:\u001b[0m\u001b[0;34m\u001b[0m\u001b[0m\n\u001b[1;32m      5\u001b[0m     \u001b[0;32mprint\u001b[0m \u001b[0mlocals\u001b[0m\u001b[0;34m(\u001b[0m\u001b[0;34m)\u001b[0m\u001b[0;34m\u001b[0m\u001b[0m\n\u001b[0;32m----> 6\u001b[0;31m     \u001b[0mbalance\u001b[0m \u001b[0;34m=\u001b[0m \u001b[0mbalance\u001b[0m \u001b[0;34m+\u001b[0m \u001b[0;36m10000\u001b[0m\u001b[0;34m\u001b[0m\u001b[0m\n\u001b[0m\u001b[1;32m      7\u001b[0m     \u001b[0;32mreturn\u001b[0m \u001b[0mbalance\u001b[0m\u001b[0;34m\u001b[0m\u001b[0m\n\u001b[1;32m      8\u001b[0m \u001b[0;34m\u001b[0m\u001b[0m\n",
      "\u001b[0;31mUnboundLocalError\u001b[0m: local variable 'balance' referenced before assignment"
     ]
    }
   ],
   "source": [
    "print my_deposit()"
   ]
  },
  {
   "cell_type": "code",
   "execution_count": 25,
   "metadata": {},
   "outputs": [],
   "source": [
    "balance = 0  # global\n",
    "def my_deposit():\n",
    "    balance = 0\n",
    "    print locals()\n",
    "    balance = balance + 10000\n",
    "    return balance"
   ]
  },
  {
   "cell_type": "code",
   "execution_count": 26,
   "metadata": {},
   "outputs": [
    {
     "name": "stdout",
     "output_type": "stream",
     "text": [
      "{'balance': 0}\n",
      "10000\n"
     ]
    }
   ],
   "source": [
    "print my_deposit()"
   ]
  },
  {
   "cell_type": "code",
   "execution_count": 27,
   "metadata": {},
   "outputs": [],
   "source": [
    "def my_withdraw():\n",
    "    \n",
    "    print locals()\n",
    "    balance = balance - 3000\n",
    "    return balance"
   ]
  },
  {
   "cell_type": "code",
   "execution_count": 28,
   "metadata": {},
   "outputs": [
    {
     "name": "stdout",
     "output_type": "stream",
     "text": [
      "{}\n"
     ]
    },
    {
     "ename": "UnboundLocalError",
     "evalue": "local variable 'balance' referenced before assignment",
     "output_type": "error",
     "traceback": [
      "\u001b[0;31m---------------------------------------------------------------------------\u001b[0m",
      "\u001b[0;31mUnboundLocalError\u001b[0m                         Traceback (most recent call last)",
      "\u001b[0;32m<ipython-input-28-13040dbf34bc>\u001b[0m in \u001b[0;36m<module>\u001b[0;34m()\u001b[0m\n\u001b[0;32m----> 1\u001b[0;31m \u001b[0;32mprint\u001b[0m \u001b[0mmy_withdraw\u001b[0m\u001b[0;34m(\u001b[0m\u001b[0;34m)\u001b[0m\u001b[0;34m\u001b[0m\u001b[0m\n\u001b[0m",
      "\u001b[0;32m<ipython-input-27-83c8d02b4443>\u001b[0m in \u001b[0;36mmy_withdraw\u001b[0;34m()\u001b[0m\n\u001b[1;32m      1\u001b[0m \u001b[0;32mdef\u001b[0m \u001b[0mmy_withdraw\u001b[0m\u001b[0;34m(\u001b[0m\u001b[0;34m)\u001b[0m\u001b[0;34m:\u001b[0m\u001b[0;34m\u001b[0m\u001b[0m\n\u001b[1;32m      2\u001b[0m     \u001b[0;32mprint\u001b[0m \u001b[0mlocals\u001b[0m\u001b[0;34m(\u001b[0m\u001b[0;34m)\u001b[0m\u001b[0;34m\u001b[0m\u001b[0m\n\u001b[0;32m----> 3\u001b[0;31m     \u001b[0mbalance\u001b[0m \u001b[0;34m=\u001b[0m \u001b[0mbalance\u001b[0m \u001b[0;34m-\u001b[0m \u001b[0;36m3000\u001b[0m\u001b[0;34m\u001b[0m\u001b[0m\n\u001b[0m\u001b[1;32m      4\u001b[0m     \u001b[0;32mreturn\u001b[0m \u001b[0mbalance\u001b[0m\u001b[0;34m\u001b[0m\u001b[0m\n",
      "\u001b[0;31mUnboundLocalError\u001b[0m: local variable 'balance' referenced before assignment"
     ]
    }
   ],
   "source": [
    "print my_withdraw()"
   ]
  },
  {
   "cell_type": "code",
   "execution_count": 29,
   "metadata": {},
   "outputs": [],
   "source": [
    "def my_withdraw():\n",
    "    balance = 0\n",
    "    print locals()\n",
    "    balance = balance - 3000\n",
    "    return balance"
   ]
  },
  {
   "cell_type": "code",
   "execution_count": 30,
   "metadata": {},
   "outputs": [
    {
     "name": "stdout",
     "output_type": "stream",
     "text": [
      "{'balance': 0}\n",
      "-3000\n"
     ]
    }
   ],
   "source": [
    "print my_withdraw()"
   ]
  },
  {
   "cell_type": "code",
   "execution_count": 34,
   "metadata": {},
   "outputs": [],
   "source": [
    "# use case\n",
    "# A single variable across multiple function you need to use global keyword.\n",
    "balance = 0  # global\n",
    "def my_deposit():\n",
    "    global balance\n",
    "    print locals()\n",
    "    balance = balance + 10000\n",
    "    return balance\n",
    "def my_withdraw():\n",
    "    global balance\n",
    "    print locals()\n",
    "    balance = balance - 3000\n",
    "    return balance"
   ]
  },
  {
   "cell_type": "code",
   "execution_count": 35,
   "metadata": {},
   "outputs": [
    {
     "name": "stdout",
     "output_type": "stream",
     "text": [
      "{}\n",
      "10000\n",
      "10000\n"
     ]
    }
   ],
   "source": [
    "print my_deposit()\n",
    "print balance"
   ]
  },
  {
   "cell_type": "code",
   "execution_count": 36,
   "metadata": {},
   "outputs": [
    {
     "name": "stdout",
     "output_type": "stream",
     "text": [
      "{}\n",
      "7000\n",
      "7000\n"
     ]
    }
   ],
   "source": [
    "print my_withdraw()\n",
    "print balance"
   ]
  },
  {
   "cell_type": "code",
   "execution_count": 37,
   "metadata": {},
   "outputs": [],
   "source": [
    "# Functional arguments"
   ]
  },
  {
   "cell_type": "code",
   "execution_count": 38,
   "metadata": {},
   "outputs": [],
   "source": [
    "def my_add(a,b):\n",
    "    return a + b"
   ]
  },
  {
   "cell_type": "code",
   "execution_count": 41,
   "metadata": {},
   "outputs": [
    {
     "name": "stdout",
     "output_type": "stream",
     "text": [
      "30\n",
      "Linuxrocks\n",
      "rocksLinux\n"
     ]
    }
   ],
   "source": [
    "# positional based.\n",
    "print my_add(10,20)\n",
    "print my_add(\"Linux\",\"rocks\")\n",
    "print my_add(\"rocks\",\"Linux\")"
   ]
  },
  {
   "cell_type": "code",
   "execution_count": 42,
   "metadata": {},
   "outputs": [
    {
     "name": "stdout",
     "output_type": "stream",
     "text": [
      "Linuxrocks\n"
     ]
    }
   ],
   "source": [
    "# key based.\n",
    "print my_add(b='rocks',a='Linux')"
   ]
  },
  {
   "cell_type": "code",
   "execution_count": 44,
   "metadata": {},
   "outputs": [],
   "source": [
    "# default\n",
    "def tables(num,kumar=10):\n",
    "    for value in range(1,kumar+1):\n",
    "        print \"{0:2d} * {1:2d} = {2:3d}\".format(num,value,num*value)"
   ]
  },
  {
   "cell_type": "code",
   "execution_count": 46,
   "metadata": {},
   "outputs": [
    {
     "name": "stdout",
     "output_type": "stream",
     "text": [
      " 2 *  1 =   2\n",
      " 2 *  2 =   4\n",
      " 2 *  3 =   6\n",
      " 2 *  4 =   8\n",
      " 2 *  5 =  10\n",
      " 2 *  6 =  12\n",
      " 2 *  7 =  14\n",
      " 2 *  8 =  16\n",
      " 2 *  9 =  18\n",
      " 2 * 10 =  20\n"
     ]
    }
   ],
   "source": [
    "tables(2)"
   ]
  },
  {
   "cell_type": "code",
   "execution_count": 47,
   "metadata": {},
   "outputs": [
    {
     "name": "stdout",
     "output_type": "stream",
     "text": [
      " 2 *  1 =   2\n",
      " 2 *  2 =   4\n",
      " 2 *  3 =   6\n",
      " 2 *  4 =   8\n",
      " 2 *  5 =  10\n"
     ]
    }
   ],
   "source": [
    "tables(2,5)"
   ]
  },
  {
   "cell_type": "code",
   "execution_count": 49,
   "metadata": {},
   "outputs": [],
   "source": [
    "# http://cache.filehippo.com/img/ex/1125__putty1.png\n",
    "def putty(hostname,port=22):\n",
    "    pass"
   ]
  },
  {
   "cell_type": "code",
   "execution_count": 50,
   "metadata": {},
   "outputs": [],
   "source": [
    "# putty(www.google.com) # port 22\n",
    "# putty(www.google.com,23) # port 23"
   ]
  },
  {
   "cell_type": "code",
   "execution_count": 51,
   "metadata": {},
   "outputs": [],
   "source": [
    "# *,**,*args,**kwargs"
   ]
  },
  {
   "cell_type": "code",
   "execution_count": 52,
   "metadata": {},
   "outputs": [],
   "source": [
    "# *\n",
    "def my_add(a,b):\n",
    "    return a + b"
   ]
  },
  {
   "cell_type": "code",
   "execution_count": 53,
   "metadata": {},
   "outputs": [
    {
     "name": "stdout",
     "output_type": "stream",
     "text": [
      "30\n"
     ]
    }
   ],
   "source": [
    "print my_add(10,20)"
   ]
  },
  {
   "cell_type": "code",
   "execution_count": 56,
   "metadata": {},
   "outputs": [
    {
     "ename": "TypeError",
     "evalue": "my_add() takes exactly 2 arguments (1 given)",
     "output_type": "error",
     "traceback": [
      "\u001b[0;31m---------------------------------------------------------------------------\u001b[0m",
      "\u001b[0;31mTypeError\u001b[0m                                 Traceback (most recent call last)",
      "\u001b[0;32m<ipython-input-56-7729f18c52c7>\u001b[0m in \u001b[0;36m<module>\u001b[0;34m()\u001b[0m\n\u001b[1;32m      4\u001b[0m \u001b[0;31m# b = my_values[1]\u001b[0m\u001b[0;34m\u001b[0m\u001b[0;34m\u001b[0m\u001b[0m\n\u001b[1;32m      5\u001b[0m \u001b[0;34m\u001b[0m\u001b[0m\n\u001b[0;32m----> 6\u001b[0;31m \u001b[0;32mprint\u001b[0m \u001b[0mmy_add\u001b[0m\u001b[0;34m(\u001b[0m\u001b[0mmy_values\u001b[0m\u001b[0;34m)\u001b[0m\u001b[0;34m\u001b[0m\u001b[0m\n\u001b[0m",
      "\u001b[0;31mTypeError\u001b[0m: my_add() takes exactly 2 arguments (1 given)"
     ]
    }
   ],
   "source": [
    "my_values = [200,300]\n",
    "my_values2 = [300,600,800]\n",
    "# a = my_values[0]\n",
    "# b = my_values[1]\n",
    "\n",
    "print my_add(my_values)\n"
   ]
  },
  {
   "cell_type": "code",
   "execution_count": 55,
   "metadata": {},
   "outputs": [
    {
     "name": "stdout",
     "output_type": "stream",
     "text": [
      "500\n"
     ]
    }
   ],
   "source": [
    "print my_add(*my_values)"
   ]
  },
  {
   "cell_type": "code",
   "execution_count": 57,
   "metadata": {},
   "outputs": [
    {
     "ename": "TypeError",
     "evalue": "my_add() takes exactly 2 arguments (3 given)",
     "output_type": "error",
     "traceback": [
      "\u001b[0;31m---------------------------------------------------------------------------\u001b[0m",
      "\u001b[0;31mTypeError\u001b[0m                                 Traceback (most recent call last)",
      "\u001b[0;32m<ipython-input-57-1f235df59f30>\u001b[0m in \u001b[0;36m<module>\u001b[0;34m()\u001b[0m\n\u001b[0;32m----> 1\u001b[0;31m \u001b[0;32mprint\u001b[0m \u001b[0mmy_add\u001b[0m\u001b[0;34m(\u001b[0m\u001b[0;34m*\u001b[0m\u001b[0mmy_values2\u001b[0m\u001b[0;34m)\u001b[0m\u001b[0;34m\u001b[0m\u001b[0m\n\u001b[0m",
      "\u001b[0;31mTypeError\u001b[0m: my_add() takes exactly 2 arguments (3 given)"
     ]
    }
   ],
   "source": [
    "print my_add(*my_values2)"
   ]
  },
  {
   "cell_type": "code",
   "execution_count": null,
   "metadata": {},
   "outputs": [],
   "source": []
  }
 ],
 "metadata": {
  "kernelspec": {
   "display_name": "Python 2",
   "language": "python",
   "name": "python2"
  },
  "language_info": {
   "codemirror_mode": {
    "name": "ipython",
    "version": 2
   },
   "file_extension": ".py",
   "mimetype": "text/x-python",
   "name": "python",
   "nbconvert_exporter": "python",
   "pygments_lexer": "ipython2",
   "version": "2.7.12+"
  }
 },
 "nbformat": 4,
 "nbformat_minor": 2
}
