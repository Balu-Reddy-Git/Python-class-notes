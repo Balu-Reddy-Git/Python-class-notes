{
 "metadata": {
  "name": "",
  "signature": "sha256:8124ec014c1adda3b470fa54d8cd9188575200bee67a03a9cfbd5c2732147ea5"
 },
 "nbformat": 3,
 "nbformat_minor": 0,
 "worksheets": [
  {
   "cells": [
    {
     "cell_type": "code",
     "collapsed": false,
     "input": [
      "# https://github.com/tuxfux-hlp/Python-examples/blob/master/opps/Good_links.txt"
     ],
     "language": "python",
     "metadata": {},
     "outputs": []
    },
    {
     "cell_type": "code",
     "collapsed": false,
     "input": [
      "# programming\n",
      "# functional programming.\n",
      "# object oriented programming."
     ],
     "language": "python",
     "metadata": {},
     "outputs": []
    },
    {
     "cell_type": "code",
     "collapsed": false,
     "input": [
      "# A P I E\n",
      "# A - Abstraction - how do you define your class object.\n",
      "# P - Polymorphism - Many forms\n",
      "# I - Inheritance\n",
      "# E - Encapsulation"
     ],
     "language": "python",
     "metadata": {},
     "outputs": []
    },
    {
     "cell_type": "code",
     "collapsed": false,
     "input": [
      "# All the below are examples of abstaraction.\n",
      "# example 1:\n",
      "# bankaccount  - class\n",
      "# - balance\n",
      "# + deposit()\n",
      "# + withdraw()\n",
      "# + Sintrest()\n",
      "\n",
      "# vipin    - 100,000 -> instance/object\n",
      "# madan    - 10,000\n",
      "# harshita - 1000"
     ],
     "language": "python",
     "metadata": {},
     "outputs": []
    },
    {
     "cell_type": "code",
     "collapsed": false,
     "input": [
      "# example 2:\n",
      "# villas ( blueprints) - class\n",
      "\n",
      "# villa1 -> yellow -> instance/objects\n",
      "# villa2 -> pink\n",
      "# villa3 -> green"
     ],
     "language": "python",
     "metadata": {},
     "outputs": []
    },
    {
     "cell_type": "code",
     "collapsed": false,
     "input": [
      "# Example 3:\n",
      "# automobiles\n",
      "# car (generic term) - class\n",
      "# - color\n",
      "# - body\n",
      "# - wheels\n",
      "# + break\n",
      "# + accleration\n",
      "# + clutch\n",
      "\n",
      "# car models\n",
      "# bmw           - instance/object\n",
      "# skoda\n",
      "# maruti\n",
      "# audi\n",
      "# benz\n",
      "# nano"
     ],
     "language": "python",
     "metadata": {},
     "outputs": []
    },
    {
     "cell_type": "code",
     "collapsed": false,
     "input": [
      "# Polymorphism\n",
      "\n",
      "print 2 + 3  # 5\n",
      "print '2' + '3' # 23\n",
      "\n",
      "# banks\n",
      "# intrest ( poly - many , morphism - forms)\n",
      "# home loan intrest\n",
      "# education loan intrest\n",
      "# saving loan intrest\n",
      "# personal loan intrest\n",
      "# ulip intrest."
     ],
     "language": "python",
     "metadata": {},
     "outputs": [
      {
       "output_type": "stream",
       "stream": "stdout",
       "text": [
        "5\n",
        "23\n"
       ]
      }
     ],
     "prompt_number": 1
    },
    {
     "cell_type": "code",
     "collapsed": false,
     "input": [
      "# Inheritance\n",
      "# the features or advantages u get from your parents\n",
      "\n",
      "# father( lefthanded,brownhair,blackeyes)\n",
      "# mother( righthanded,blondhair,blueeyes)\n",
      "\n",
      "# child is inheriting features from both mother and father.\n",
      "# child( lefhanded,blackhair,blueeyes)"
     ],
     "language": "python",
     "metadata": {},
     "outputs": []
    },
    {
     "cell_type": "code",
     "collapsed": false,
     "input": [
      "# Encapsulation\n",
      "# hiding of data. But we don't have it in python\n",
      "# getting the people to use function rather than data.\n",
      "\n",
      "# bankaccount\n",
      "# balance\n",
      "# deposit()\n",
      "# withdraw()\n",
      "\n",
      "# add money - i should not modify the balance account direclty, i should use the deposit() function.\n",
      "# withdraw money - i should not modify balance account direclty , i should use the withdraw() function.\n",
      "# we are more concerned with the functionality rather than the data.\n",
      "# pendrive - you plugin and see data. reading and writing data into the pendrive.\n"
     ],
     "language": "python",
     "metadata": {},
     "outputs": []
    },
    {
     "cell_type": "code",
     "collapsed": false,
     "input": [
      "# bankaccount for learning object oriented programming.\n",
      "\n",
      "# basic functional programming.\n",
      "balance = 0\n",
      "\n",
      "def deposit(amount):\n",
      "    global balance\n",
      "    balance = balance + amount\n",
      "\n",
      "def withdraw(amount):\n",
      "    global balance\n",
      "    balance = balance - amount\n",
      "    \n",
      "# Main\n",
      "# ramanji\n",
      "print \"balance of ramanji before deposit- {}\".format(balance)\n",
      "print \"depositing the amount into account - 1000\"\n",
      "deposit(1000)\n",
      "print \"withdraw the amount from the account - 300\"\n",
      "withdraw(300)\n",
      "print \"balance of ramanji after all transactions - {}\".format(balance)\n",
      "\n",
      "# Sunil\n",
      "print \"balance of sunil before deposit- {}\".format(balance)\n",
      "    "
     ],
     "language": "python",
     "metadata": {},
     "outputs": [
      {
       "output_type": "stream",
       "stream": "stdout",
       "text": [
        "balance of ramanji before deposit- 0\n",
        "depositing the amount into account - 1000\n",
        "withdraw the amount from the account - 300\n",
        "balance of ramanji after all transactions - 700\n",
        "balance of sunil before deposit- 700\n"
       ]
      }
     ],
     "prompt_number": 3
    },
    {
     "cell_type": "code",
     "collapsed": false,
     "input": [
      "# dictionary\n",
      "\n",
      "def account():\n",
      "    return {'balance':0}\n",
      "\n",
      "def deposit(account,amount):\n",
      "    account['balance'] =  account['balance'] + amount\n",
      "\n",
      "def withdraw(account,amount):\n",
      "    account['balance'] =  account['balance'] - amount\n",
      "    \n",
      "# Main\n",
      "ramji = account() # ramji = {balance:0} , ramji['balance']\n",
      "print ramji\n",
      "print \"balance of ramji is {}\".format(ramji['balance'])\n",
      "print \"depositing the amount into account - 1000\"\n",
      "deposit(ramji,1000)\n",
      "print \"withdraw then amount from the account - 300\"\n",
      "withdraw(ramji,300)\n",
      "print \"balance of ramanji after all transactions - {}\".format(ramji['balance'])\n",
      "\n",
      "sunil = account()\n",
      "print sunil\n",
      "print \"balance of sunil is {}\".format(sunil['balance'])"
     ],
     "language": "python",
     "metadata": {},
     "outputs": [
      {
       "output_type": "stream",
       "stream": "stdout",
       "text": [
        "{'balance': 0}\n",
        "balance of ramji is 0\n",
        "depositing the amount into account - 1000\n",
        "withdraw then amount from the account - 300\n",
        "balance of ramanji after all transactions - 700\n",
        "{'balance': 0}\n",
        "balance of sunil is 0\n"
       ]
      }
     ],
     "prompt_number": 6
    },
    {
     "cell_type": "code",
     "collapsed": false,
     "input": [
      "# object oriented concept."
     ],
     "language": "python",
     "metadata": {},
     "outputs": []
    }
   ],
   "metadata": {}
  }
 ]
}