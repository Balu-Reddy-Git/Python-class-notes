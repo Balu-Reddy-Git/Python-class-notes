{
 "cells": [
  {
   "cell_type": "code",
   "execution_count": null,
   "metadata": {
    "collapsed": true
   },
   "outputs": [],
   "source": [
    "# Function\n",
    "# A block of code,which can be called repetatively."
   ]
  },
  {
   "cell_type": "code",
   "execution_count": 1,
   "metadata": {
    "collapsed": true
   },
   "outputs": [],
   "source": [
    "# defining a function\n",
    "\n",
    "def my_func():\n",
    "    print \"hey there!!\""
   ]
  },
  {
   "cell_type": "code",
   "execution_count": 2,
   "metadata": {
    "collapsed": false
   },
   "outputs": [
    {
     "name": "stdout",
     "output_type": "stream",
     "text": [
      "<function my_func at 0x7f843c220c80>\n",
      "hey there!!\n",
      "None\n"
     ]
    },
    {
     "data": {
      "text/plain": [
       "<function __main__.my_func>"
      ]
     },
     "execution_count": 2,
     "metadata": {},
     "output_type": "execute_result"
    }
   ],
   "source": [
    "print my_func   # address of the function\n",
    "print my_func() # calling the function.\n",
    "my_func         # my_func is part of our __main__ program. similar to void main in c++."
   ]
  },
  {
   "cell_type": "code",
   "execution_count": null,
   "metadata": {
    "collapsed": true
   },
   "outputs": [],
   "source": [
    "# every function has a return value.\n",
    "# if a function has no retrun value we get None.\n",
    "# return marks the end of the function."
   ]
  },
  {
   "cell_type": "code",
   "execution_count": 5,
   "metadata": {
    "collapsed": true
   },
   "outputs": [],
   "source": [
    "def my_func():\n",
    "    return \"hey there!!\"\n",
    "    print \"line1\"\n",
    "    print \"line2\"\n",
    "    print \"line3\""
   ]
  },
  {
   "cell_type": "code",
   "execution_count": 6,
   "metadata": {
    "collapsed": false
   },
   "outputs": [
    {
     "name": "stdout",
     "output_type": "stream",
     "text": [
      "hey there!!\n"
     ]
    }
   ],
   "source": [
    "print my_func()"
   ]
  },
  {
   "cell_type": "code",
   "execution_count": null,
   "metadata": {
    "collapsed": true
   },
   "outputs": [],
   "source": [
    "# function scope/namespaces/variables"
   ]
  },
  {
   "cell_type": "code",
   "execution_count": null,
   "metadata": {
    "collapsed": true
   },
   "outputs": [],
   "source": [
    "# variable defined inside a function are restricted to the function.\n",
    "# variable inside function/local scope variables get activated during run time of function.\n",
    "# Lifespan of a variable is during the runtime of the function."
   ]
  },
  {
   "cell_type": "code",
   "execution_count": 7,
   "metadata": {
    "collapsed": true
   },
   "outputs": [],
   "source": [
    "# case 1\n",
    "def my_func():\n",
    "    a = 1\n",
    "    return a"
   ]
  },
  {
   "cell_type": "code",
   "execution_count": null,
   "metadata": {
    "collapsed": true
   },
   "outputs": [],
   "source": [
    "print my_func() # 1\n"
   ]
  },
  {
   "cell_type": "code",
   "execution_count": 8,
   "metadata": {
    "collapsed": false
   },
   "outputs": [
    {
     "ename": "NameError",
     "evalue": "name 'a' is not defined",
     "output_type": "error",
     "traceback": [
      "\u001b[0;31m---------------------------------------------------------------------------\u001b[0m",
      "\u001b[0;31mNameError\u001b[0m                                 Traceback (most recent call last)",
      "\u001b[0;32m<ipython-input-8-9d7b17ad5387>\u001b[0m in \u001b[0;36m<module>\u001b[0;34m()\u001b[0m\n\u001b[0;32m----> 1\u001b[0;31m \u001b[0;32mprint\u001b[0m \u001b[0ma\u001b[0m\u001b[0;34m\u001b[0m\u001b[0m\n\u001b[0m",
      "\u001b[0;31mNameError\u001b[0m: name 'a' is not defined"
     ]
    }
   ],
   "source": [
    "print a"
   ]
  },
  {
   "cell_type": "code",
   "execution_count": 12,
   "metadata": {
    "collapsed": true
   },
   "outputs": [],
   "source": [
    "# case 2\n",
    "# locals - show the local variables\n",
    "a = 10 # global variable\n",
    "def my_func():\n",
    "    print locals()\n",
    "    return a\n",
    "\n"
   ]
  },
  {
   "cell_type": "code",
   "execution_count": 13,
   "metadata": {
    "collapsed": false
   },
   "outputs": [
    {
     "name": "stdout",
     "output_type": "stream",
     "text": [
      "{}\n",
      "10\n",
      "10\n"
     ]
    }
   ],
   "source": [
    "print my_func() # 10\n",
    "print a         # 10"
   ]
  },
  {
   "cell_type": "code",
   "execution_count": 14,
   "metadata": {
    "collapsed": true
   },
   "outputs": [],
   "source": [
    "# case 3 \n",
    "# locals - show the local variables\n",
    "# local variabels are given higher precedence than global variable.\n",
    "a = 10 # global variable\n",
    "def my_func():\n",
    "    a = 2\n",
    "    print locals()\n",
    "    return a"
   ]
  },
  {
   "cell_type": "code",
   "execution_count": 15,
   "metadata": {
    "collapsed": false
   },
   "outputs": [
    {
     "name": "stdout",
     "output_type": "stream",
     "text": [
      "{'a': 2}\n",
      "2\n",
      "10\n"
     ]
    }
   ],
   "source": [
    "print my_func() # 2\n",
    "print a         # 10"
   ]
  },
  {
   "cell_type": "code",
   "execution_count": 16,
   "metadata": {
    "collapsed": false
   },
   "outputs": [
    {
     "name": "stdout",
     "output_type": "stream",
     "text": [
      "{'_dh': [u'/home/tcloudost/Documents/git_repositories/python-batches/batch-59'], '__': '', '_i': u'print my_func() # 2\\nprint a         # 10', 'quit': <IPython.core.autocall.ZMQExitAutocall object at 0x7f843c2e9290>, '__builtins__': <module '__builtin__' (built-in)>, '_ih': ['', u'# defining a function\\n\\ndef my_func():\\n    print \"hey there!!\"', u'print my_func\\nprint my_func()\\nmy_func', u'def my_func():\\n    return \"hey there!!\"', u'print my_func()', u'def my_func():\\n    return \"hey there!!\"\\n    print \"line1\"\\n    print \"line2\"\\n    print \"line3\"', u'print my_func()', u'def my_func():\\n    a = 1\\n    return a', u'print a', u'# case 2\\na = 10 # global variable\\ndef my_func():\\n    return a', u'print my_func() # 10\\nprint a         # 10', u'print my_func() # 10\\nprint a         # 10', u'# case 2\\n# locals - show the local variables\\na = 10 # global variable\\ndef my_func():\\n    print locals()\\n    return a', u'print my_func() # 10\\nprint a         # 10', u'# case 3 \\n# locals - show the local variables\\na = 10 # global variable\\ndef my_func():\\n    a = 2\\n    print locals()\\n    return a', u'print my_func() # 2\\nprint a         # 10', u'# globals\\nprint globals()'], '__builtin__': <module '__builtin__' (built-in)>, '_2': <function my_func at 0x7f843c220c80>, '__name__': '__main__', '___': '', '_i15': u'print my_func() # 2\\nprint a         # 10', '_': <function my_func at 0x7f843c220c80>, 'a': 10, '_sh': <module 'IPython.core.shadowns' from '/usr/local/lib/python2.7/dist-packages/IPython/core/shadowns.pyc'>, '_i12': u'# case 2\\n# locals - show the local variables\\na = 10 # global variable\\ndef my_func():\\n    print locals()\\n    return a', '_i11': u'print my_func() # 10\\nprint a         # 10', '_i9': u'# case 2\\na = 10 # global variable\\ndef my_func():\\n    return a', '_i8': u'print a', '_i7': u'def my_func():\\n    a = 1\\n    return a', '_i6': u'print my_func()', '_i5': u'def my_func():\\n    return \"hey there!!\"\\n    print \"line1\"\\n    print \"line2\"\\n    print \"line3\"', '_i4': u'print my_func()', '_i3': u'def my_func():\\n    return \"hey there!!\"', '_i2': u'print my_func\\nprint my_func()\\nmy_func', '_i1': u'# defining a function\\n\\ndef my_func():\\n    print \"hey there!!\"', '__doc__': 'Automatically created module for IPython interactive environment', '_i13': u'print my_func() # 10\\nprint a         # 10', 'my_func': <function my_func at 0x7f84427b1140>, '_iii': u'print my_func() # 10\\nprint a         # 10', '_i10': u'print my_func() # 10\\nprint a         # 10', 'exit': <IPython.core.autocall.ZMQExitAutocall object at 0x7f843c2e9290>, 'get_ipython': <bound method ZMQInteractiveShell.get_ipython of <ipykernel.zmqshell.ZMQInteractiveShell object at 0x7f8444f4d950>>, '_ii': u'# case 3 \\n# locals - show the local variables\\na = 10 # global variable\\ndef my_func():\\n    a = 2\\n    print locals()\\n    return a', 'In': ['', u'# defining a function\\n\\ndef my_func():\\n    print \"hey there!!\"', u'print my_func\\nprint my_func()\\nmy_func', u'def my_func():\\n    return \"hey there!!\"', u'print my_func()', u'def my_func():\\n    return \"hey there!!\"\\n    print \"line1\"\\n    print \"line2\"\\n    print \"line3\"', u'print my_func()', u'def my_func():\\n    a = 1\\n    return a', u'print a', u'# case 2\\na = 10 # global variable\\ndef my_func():\\n    return a', u'print my_func() # 10\\nprint a         # 10', u'print my_func() # 10\\nprint a         # 10', u'# case 2\\n# locals - show the local variables\\na = 10 # global variable\\ndef my_func():\\n    print locals()\\n    return a', u'print my_func() # 10\\nprint a         # 10', u'# case 3 \\n# locals - show the local variables\\na = 10 # global variable\\ndef my_func():\\n    a = 2\\n    print locals()\\n    return a', u'print my_func() # 2\\nprint a         # 10', u'# globals\\nprint globals()'], '_i16': u'# globals\\nprint globals()', '_i14': u'# case 3 \\n# locals - show the local variables\\na = 10 # global variable\\ndef my_func():\\n    a = 2\\n    print locals()\\n    return a', '_oh': {2: <function my_func at 0x7f843c220c80>}, 'Out': {2: <function my_func at 0x7f843c220c80>}}\n"
     ]
    }
   ],
   "source": [
    "# globals\n",
    "print globals()"
   ]
  },
  {
   "cell_type": "code",
   "execution_count": 26,
   "metadata": {
    "collapsed": true
   },
   "outputs": [],
   "source": [
    "# global: keyword\n",
    "\n",
    "balance = 0\n",
    "\n",
    "def deposit():\n",
    "    global balance\n",
    "    print locals()\n",
    "    balance = balance + 1000\n",
    "    return balance\n",
    "\n",
    "def withdraw():\n",
    "    global balance\n",
    "    print locals()\n",
    "    balance = balance - 300\n",
    "    return balance"
   ]
  },
  {
   "cell_type": "code",
   "execution_count": 18,
   "metadata": {
    "collapsed": false
   },
   "outputs": [
    {
     "ename": "UnboundLocalError",
     "evalue": "local variable 'balance' referenced before assignment",
     "output_type": "error",
     "traceback": [
      "\u001b[0;31m---------------------------------------------------------------------------\u001b[0m",
      "\u001b[0;31mUnboundLocalError\u001b[0m                         Traceback (most recent call last)",
      "\u001b[0;32m<ipython-input-18-f63fab9016ab>\u001b[0m in \u001b[0;36m<module>\u001b[0;34m()\u001b[0m\n\u001b[0;32m----> 1\u001b[0;31m \u001b[0;32mprint\u001b[0m \u001b[0mdeposit\u001b[0m\u001b[0;34m(\u001b[0m\u001b[0;34m)\u001b[0m\u001b[0;34m\u001b[0m\u001b[0m\n\u001b[0m",
      "\u001b[0;32m<ipython-input-17-bc0de6ae4759>\u001b[0m in \u001b[0;36mdeposit\u001b[0;34m()\u001b[0m\n\u001b[1;32m      4\u001b[0m \u001b[0;34m\u001b[0m\u001b[0m\n\u001b[1;32m      5\u001b[0m \u001b[0;32mdef\u001b[0m \u001b[0mdeposit\u001b[0m\u001b[0;34m(\u001b[0m\u001b[0;34m)\u001b[0m\u001b[0;34m:\u001b[0m\u001b[0;34m\u001b[0m\u001b[0m\n\u001b[0;32m----> 6\u001b[0;31m     \u001b[0mbalance\u001b[0m \u001b[0;34m=\u001b[0m \u001b[0mbalance\u001b[0m \u001b[0;34m+\u001b[0m \u001b[0;36m1000\u001b[0m\u001b[0;34m\u001b[0m\u001b[0m\n\u001b[0m\u001b[1;32m      7\u001b[0m     \u001b[0;32mreturn\u001b[0m \u001b[0mbalance\u001b[0m\u001b[0;34m\u001b[0m\u001b[0m\n\u001b[1;32m      8\u001b[0m \u001b[0;34m\u001b[0m\u001b[0m\n",
      "\u001b[0;31mUnboundLocalError\u001b[0m: local variable 'balance' referenced before assignment"
     ]
    }
   ],
   "source": [
    "# i see this error when the code was\n",
    "'''\n",
    "def deposit():\n",
    "    balance = balance + 1000\n",
    "    return balance\n",
    "'''\n",
    "print deposit()"
   ]
  },
  {
   "cell_type": "code",
   "execution_count": 27,
   "metadata": {
    "collapsed": false
   },
   "outputs": [
    {
     "name": "stdout",
     "output_type": "stream",
     "text": [
      "{}\n",
      "1000\n"
     ]
    }
   ],
   "source": [
    "print deposit()"
   ]
  },
  {
   "cell_type": "code",
   "execution_count": 28,
   "metadata": {
    "collapsed": false
   },
   "outputs": [
    {
     "name": "stdout",
     "output_type": "stream",
     "text": [
      "{}\n",
      "700\n"
     ]
    }
   ],
   "source": [
    "print withdraw()"
   ]
  },
  {
   "cell_type": "code",
   "execution_count": 29,
   "metadata": {
    "collapsed": false
   },
   "outputs": [
    {
     "name": "stdout",
     "output_type": "stream",
     "text": [
      "700\n"
     ]
    }
   ],
   "source": [
    "print balance"
   ]
  },
  {
   "cell_type": "code",
   "execution_count": null,
   "metadata": {
    "collapsed": true
   },
   "outputs": [],
   "source": [
    "# passing arguments,key arguments\n",
    "# *,**,*args,**kwargs"
   ]
  },
  {
   "cell_type": "code",
   "execution_count": null,
   "metadata": {
    "collapsed": true
   },
   "outputs": [],
   "source": []
  }
 ],
 "metadata": {
  "kernelspec": {
   "display_name": "Python 2",
   "language": "python",
   "name": "python2"
  },
  "language_info": {
   "codemirror_mode": {
    "name": "ipython",
    "version": 2
   },
   "file_extension": ".py",
   "mimetype": "text/x-python",
   "name": "python",
   "nbconvert_exporter": "python",
   "pygments_lexer": "ipython2",
   "version": "2.7.6"
  }
 },
 "nbformat": 4,
 "nbformat_minor": 1
}
