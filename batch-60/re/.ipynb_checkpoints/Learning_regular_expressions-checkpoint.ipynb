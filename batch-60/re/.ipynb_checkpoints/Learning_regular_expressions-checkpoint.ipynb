{
 "cells": [
  {
   "cell_type": "code",
   "execution_count": null,
   "metadata": {
    "collapsed": true
   },
   "outputs": [],
   "source": [
    "# re,regex,pattern matching."
   ]
  },
  {
   "cell_type": "code",
   "execution_count": 1,
   "metadata": {
    "collapsed": true
   },
   "outputs": [],
   "source": [
    "import re"
   ]
  },
  {
   "cell_type": "code",
   "execution_count": 2,
   "metadata": {
    "collapsed": false
   },
   "outputs": [
    {
     "name": "stdout",
     "output_type": "stream",
     "text": [
      "['DEBUG', 'DOTALL', 'I', 'IGNORECASE', 'L', 'LOCALE', 'M', 'MULTILINE', 'S', 'Scanner', 'T', 'TEMPLATE', 'U', 'UNICODE', 'VERBOSE', 'X', '_MAXCACHE', '__all__', '__builtins__', '__doc__', '__file__', '__name__', '__package__', '__version__', '_alphanum', '_cache', '_cache_repl', '_compile', '_compile_repl', '_expand', '_pattern_type', '_pickle', '_subx', 'compile', 'copy_reg', 'error', 'escape', 'findall', 'finditer', 'match', 'purge', 'search', 'split', 'sre_compile', 'sre_parse', 'sub', 'subn', 'sys', 'template']\n"
     ]
    }
   ],
   "source": [
    "print dir(re)"
   ]
  },
  {
   "cell_type": "code",
   "execution_count": 3,
   "metadata": {
    "collapsed": false
   },
   "outputs": [
    {
     "name": "stdout",
     "output_type": "stream",
     "text": [
      "Help on function match in module re:\n",
      "\n",
      "match(pattern, string, flags=0)\n",
      "    Try to apply the pattern at the start of the string, returning\n",
      "    a match object, or None if no match was found.\n",
      "\n",
      "None\n"
     ]
    }
   ],
   "source": [
    "print help(re.match)"
   ]
  },
  {
   "cell_type": "code",
   "execution_count": 4,
   "metadata": {
    "collapsed": true
   },
   "outputs": [],
   "source": [
    "my_string=\"python\""
   ]
  },
  {
   "cell_type": "code",
   "execution_count": 5,
   "metadata": {
    "collapsed": false
   },
   "outputs": [
    {
     "name": "stdout",
     "output_type": "stream",
     "text": [
      "<_sre.SRE_Match object at 0x7fcac87dd6b0>\n"
     ]
    }
   ],
   "source": [
    "print re.match(\"p\",my_string)"
   ]
  },
  {
   "cell_type": "code",
   "execution_count": 6,
   "metadata": {
    "collapsed": false
   },
   "outputs": [
    {
     "name": "stdout",
     "output_type": "stream",
     "text": [
      "<_sre.SRE_Match object at 0x7fcac87dd5e0>\n",
      "None\n",
      "None\n"
     ]
    }
   ],
   "source": [
    "print re.match(\"py\",my_string) # match\n",
    "print re.match(\"pythons\",my_string) # no match\n",
    "print re.match(\"yt\",my_string) # no match"
   ]
  },
  {
   "cell_type": "code",
   "execution_count": 8,
   "metadata": {
    "collapsed": false
   },
   "outputs": [
    {
     "name": "stdout",
     "output_type": "stream",
     "text": [
      "None\n",
      "<_sre.SRE_Match object at 0x7fcac87dd578>\n"
     ]
    }
   ],
   "source": [
    "print re.match(\"Py\",my_string)\n",
    "print re.match(\"Py\",my_string,re.I)"
   ]
  },
  {
   "cell_type": "code",
   "execution_count": null,
   "metadata": {
    "collapsed": true
   },
   "outputs": [],
   "source": [
    "# search"
   ]
  },
  {
   "cell_type": "code",
   "execution_count": 9,
   "metadata": {
    "collapsed": false
   },
   "outputs": [
    {
     "name": "stdout",
     "output_type": "stream",
     "text": [
      "Help on function search in module re:\n",
      "\n",
      "search(pattern, string, flags=0)\n",
      "    Scan through string looking for a match to the pattern, returning\n",
      "    a match object, or None if no match was found.\n",
      "\n",
      "None\n"
     ]
    }
   ],
   "source": [
    "print help(re.search)"
   ]
  },
  {
   "cell_type": "code",
   "execution_count": 10,
   "metadata": {
    "collapsed": false
   },
   "outputs": [
    {
     "name": "stdout",
     "output_type": "stream",
     "text": [
      "<_sre.SRE_Match object at 0x7fcac87dd440>\n"
     ]
    }
   ],
   "source": [
    "print re.search(\"yt\",my_string)"
   ]
  },
  {
   "cell_type": "code",
   "execution_count": 11,
   "metadata": {
    "collapsed": false
   },
   "outputs": [
    {
     "name": "stdout",
     "output_type": "stream",
     "text": [
      "<_sre.SRE_Match object at 0x7fcac87dd510>\n",
      "None\n",
      "<_sre.SRE_Match object at 0x7fcac87dd510>\n",
      "<_sre.SRE_Match object at 0x7fcac87dd510>\n"
     ]
    }
   ],
   "source": [
    "# sentences\n",
    "my_sentence1 = \"python is a great language.\"\n",
    "my_sentence2 = \"one of the great languages is python.\"\n",
    "\n",
    "print re.match(\"python\",my_sentence1) # true\n",
    "print re.match(\"python\",my_sentence2) # False\n",
    "print re.search('python',my_sentence1) # true\n",
    "print re.search('python',my_sentence2) # true"
   ]
  },
  {
   "cell_type": "code",
   "execution_count": 12,
   "metadata": {
    "collapsed": false
   },
   "outputs": [
    {
     "name": "stdout",
     "output_type": "stream",
     "text": [
      "Help on function compile in module re:\n",
      "\n",
      "compile(pattern, flags=0)\n",
      "    Compile a regular expression pattern, returning a pattern object.\n",
      "\n",
      "None\n"
     ]
    }
   ],
   "source": [
    "# compile\n",
    "print help(re.compile)"
   ]
  },
  {
   "cell_type": "code",
   "execution_count": 14,
   "metadata": {
    "collapsed": false
   },
   "outputs": [
    {
     "name": "stdout",
     "output_type": "stream",
     "text": [
      "Help on built-in function match:\n",
      "\n",
      "match(...)\n",
      "    match(string[, pos[, endpos]]) --> match object or None.\n",
      "    Matches zero or more characters at the beginning of the string\n",
      "\n",
      "None\n"
     ]
    }
   ],
   "source": [
    "reg = re.compile(\"python\",re.I)\n",
    "\n",
    "print help(reg.match)"
   ]
  },
  {
   "cell_type": "code",
   "execution_count": 15,
   "metadata": {
    "collapsed": false
   },
   "outputs": [
    {
     "name": "stdout",
     "output_type": "stream",
     "text": [
      "<_sre.SRE_Match object at 0x7fcac87dd168>\n",
      "None\n",
      "<_sre.SRE_Match object at 0x7fcac87dd168>\n",
      "<_sre.SRE_Match object at 0x7fcac87dd168>\n"
     ]
    }
   ],
   "source": [
    "print reg.match(my_sentence1)  # true\n",
    "print reg.match(my_sentence2)  # False\n",
    "print reg.search(my_sentence1) # true\n",
    "print reg.search(my_sentence2) # true"
   ]
  },
  {
   "cell_type": "code",
   "execution_count": null,
   "metadata": {
    "collapsed": true
   },
   "outputs": [],
   "source": [
    "# special characters\n",
    "# ^ -> caret -> beginning of a sentence.\n",
    "# $ -> dollar -> end of a sentence.\n",
    "# . -> dot -> one character."
   ]
  },
  {
   "cell_type": "code",
   "execution_count": 16,
   "metadata": {
    "collapsed": true
   },
   "outputs": [],
   "source": [
    "# sentences\n",
    "my_sentence1 = \"python is a great language.\"\n",
    "my_sentence2 = \"one of the great languages is python.\""
   ]
  },
  {
   "cell_type": "code",
   "execution_count": 17,
   "metadata": {
    "collapsed": false
   },
   "outputs": [
    {
     "name": "stdout",
     "output_type": "stream",
     "text": [
      "<_sre.SRE_Match object at 0x7fcac87dd370>\n",
      "<_sre.SRE_Match object at 0x7fcac87dd370>\n",
      "<_sre.SRE_Match object at 0x7fcac87dd370>\n",
      "None\n"
     ]
    }
   ],
   "source": [
    "reg = re.compile('python',re.I)\n",
    "reg1 = re.compile('^python',re.I)\n",
    "print reg1.search(my_sentence1) # true\n",
    "print reg.search(my_sentence1)  # true\n",
    "print reg.search(my_sentence2)  # true\n",
    "print reg1.search(my_sentence2) # false"
   ]
  },
  {
   "cell_type": "code",
   "execution_count": 24,
   "metadata": {
    "collapsed": false
   },
   "outputs": [
    {
     "name": "stdout",
     "output_type": "stream",
     "text": [
      "<_sre.SRE_Match object at 0x7fcac87ddcc8>\n",
      "None\n",
      "<_sre.SRE_Match object at 0x7fcac87ddcc8>\n",
      "pyt\n"
     ]
    }
   ],
   "source": [
    "# dot (.)\n",
    "# . doest not repressent a \\n or \\r .\n",
    "my_string=\"python\"\n",
    "my_string1 = \"python\\n\"\n",
    "print re.match('......',my_string,re.I)\n",
    "print re.match('.......',my_string1,re.I)\n",
    "print re.match('.......',my_string1,(re.I|re.DOTALL))\n",
    "print re.match('...',my_string,re.I).group()"
   ]
  },
  {
   "cell_type": "code",
   "execution_count": null,
   "metadata": {
    "collapsed": true
   },
   "outputs": [],
   "source": [
    "# example."
   ]
  }
 ],
 "metadata": {
  "kernelspec": {
   "display_name": "Python 2",
   "language": "python",
   "name": "python2"
  },
  "language_info": {
   "codemirror_mode": {
    "name": "ipython",
    "version": 2
   },
   "file_extension": ".py",
   "mimetype": "text/x-python",
   "name": "python",
   "nbconvert_exporter": "python",
   "pygments_lexer": "ipython2",
   "version": "2.7.6"
  }
 },
 "nbformat": 4,
 "nbformat_minor": 1
}
