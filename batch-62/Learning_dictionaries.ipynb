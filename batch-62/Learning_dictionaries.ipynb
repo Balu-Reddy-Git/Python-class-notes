{
 "cells": [
  {
   "cell_type": "code",
   "execution_count": 2,
   "metadata": {
    "collapsed": true
   },
   "outputs": [],
   "source": [
    "# dictionaries,hashes,dict\n",
    "# key => value\n",
    "# adhar,ssn"
   ]
  },
  {
   "cell_type": "code",
   "execution_count": 3,
   "metadata": {
    "collapsed": true
   },
   "outputs": [],
   "source": [
    "my_fruits = {'a':'apple','b':'banana','c':'cherry','d':'dates'}"
   ]
  },
  {
   "cell_type": "code",
   "execution_count": 4,
   "metadata": {
    "collapsed": false
   },
   "outputs": [
    {
     "name": "stdout",
     "output_type": "stream",
     "text": [
      "{'a': 'apple', 'c': 'cherry', 'b': 'banana', 'd': 'dates'} <type 'dict'>\n"
     ]
    }
   ],
   "source": [
    "print my_fruits,type(my_fruits)"
   ]
  },
  {
   "cell_type": "code",
   "execution_count": 12,
   "metadata": {
    "collapsed": false
   },
   "outputs": [
    {
     "name": "stdout",
     "output_type": "stream",
     "text": [
      "{} <type 'dict'>\n"
     ]
    }
   ],
   "source": [
    "my_empty = {}\n",
    "print my_empty,type(my_empty)"
   ]
  },
  {
   "cell_type": "code",
   "execution_count": 13,
   "metadata": {
    "collapsed": false
   },
   "outputs": [
    {
     "name": "stdout",
     "output_type": "stream",
     "text": [
      "{} <type 'dict'>\n"
     ]
    }
   ],
   "source": [
    "my_empty = dict()\n",
    "print my_empty,type(my_empty)"
   ]
  },
  {
   "cell_type": "code",
   "execution_count": 14,
   "metadata": {
    "collapsed": true
   },
   "outputs": [],
   "source": [
    "# cheatsheet\n",
    "# list => ['apple','banana'],list(),[]\n",
    "# tuple => ('apple','banana'),tuple(),()\n",
    "# dict => {'a':'apple','b':'banana'},dict(),{}"
   ]
  },
  {
   "cell_type": "code",
   "execution_count": 5,
   "metadata": {
    "collapsed": false
   },
   "outputs": [
    {
     "name": "stdout",
     "output_type": "stream",
     "text": [
      "apple\n"
     ]
    }
   ],
   "source": [
    "# listing elements of dictionary\n",
    "print my_fruits['a']"
   ]
  },
  {
   "cell_type": "code",
   "execution_count": 7,
   "metadata": {
    "collapsed": false
   },
   "outputs": [
    {
     "name": "stdout",
     "output_type": "stream",
     "text": [
      "{'a': 'apple', 'c': 'cherry', 'b': 'banana', 'd': 'dates', 'g': ['guava', 'grapes']}\n"
     ]
    }
   ],
   "source": [
    "# append\n",
    "my_fruits['g'] = ['guava','grapes']\n",
    "print my_fruits"
   ]
  },
  {
   "cell_type": "code",
   "execution_count": 9,
   "metadata": {
    "collapsed": false
   },
   "outputs": [
    {
     "name": "stdout",
     "output_type": "stream",
     "text": [
      "{'a': 'apricot', 'c': 'cherry', 'b': 'banana', 'd': 'dates', 'g': ['guava', 'grapes']}\n"
     ]
    }
   ],
   "source": [
    "# replace\n",
    "my_fruits['a'] = 'apricot'\n",
    "print my_fruits"
   ]
  },
  {
   "cell_type": "code",
   "execution_count": 11,
   "metadata": {
    "collapsed": false
   },
   "outputs": [
    {
     "name": "stdout",
     "output_type": "stream",
     "text": [
      "{'a': ['apple', 'apple'], 'c': 'cherry', 'b': 'banana', 'd': 'dates', 'g': ['guava', 'grapes']}\n"
     ]
    }
   ],
   "source": [
    "my_fruits['a'] = ['apple','apple']\n",
    "print my_fruits"
   ]
  },
  {
   "cell_type": "code",
   "execution_count": 16,
   "metadata": {
    "collapsed": false
   },
   "outputs": [
    {
     "name": "stdout",
     "output_type": "stream",
     "text": [
      "False\n",
      "True\n"
     ]
    }
   ],
   "source": [
    "# in operation\n",
    "print 'cherry' in my_fruits\n",
    "print 'c' in my_fruits"
   ]
  },
  {
   "cell_type": "code",
   "execution_count": 18,
   "metadata": {
    "collapsed": false
   },
   "outputs": [
    {
     "name": "stdout",
     "output_type": "stream",
     "text": [
      "a\n",
      "c\n",
      "b\n",
      "d\n",
      "g\n"
     ]
    }
   ],
   "source": [
    "# looping in dictionaries\n",
    "for key in my_fruits:\n",
    "    print key"
   ]
  },
  {
   "cell_type": "code",
   "execution_count": 19,
   "metadata": {
    "collapsed": false
   },
   "outputs": [
    {
     "name": "stdout",
     "output_type": "stream",
     "text": [
      "a ['apple', 'apple']\n",
      "c cherry\n",
      "b banana\n",
      "d dates\n",
      "g ['guava', 'grapes']\n"
     ]
    }
   ],
   "source": [
    "for key in my_fruits:\n",
    "    print key,my_fruits[key]"
   ]
  },
  {
   "cell_type": "code",
   "execution_count": null,
   "metadata": {
    "collapsed": true
   },
   "outputs": [],
   "source": []
  }
 ],
 "metadata": {
  "kernelspec": {
   "display_name": "Python 2",
   "language": "python",
   "name": "python2"
  },
  "language_info": {
   "codemirror_mode": {
    "name": "ipython",
    "version": 2
   },
   "file_extension": ".py",
   "mimetype": "text/x-python",
   "name": "python",
   "nbconvert_exporter": "python",
   "pygments_lexer": "ipython2",
   "version": "2.7.6"
  }
 },
 "nbformat": 4,
 "nbformat_minor": 1
}
