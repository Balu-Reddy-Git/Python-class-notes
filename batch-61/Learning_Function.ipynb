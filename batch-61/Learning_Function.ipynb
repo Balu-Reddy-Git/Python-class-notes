{
 "cells": [
  {
   "cell_type": "code",
   "execution_count": null,
   "metadata": {
    "collapsed": true
   },
   "outputs": [],
   "source": [
    "# functions\n",
    "# A function is a block of code.. which can be called n number of times.\n",
    "# block - function - which could be repetative."
   ]
  },
  {
   "cell_type": "code",
   "execution_count": 1,
   "metadata": {
    "collapsed": true
   },
   "outputs": [],
   "source": [
    "# every function has a return value.\n",
    "# if there is no value returned , we get None.\n",
    "def myfunc():\n",
    "    print \"hello world!!!\""
   ]
  },
  {
   "cell_type": "code",
   "execution_count": 2,
   "metadata": {
    "collapsed": false
   },
   "outputs": [
    {
     "name": "stdout",
     "output_type": "stream",
     "text": [
      "hello world!!!\n",
      "None\n",
      "hello world!!!\n",
      "None\n"
     ]
    }
   ],
   "source": [
    "print myfunc()\n",
    "print myfunc()"
   ]
  },
  {
   "cell_type": "code",
   "execution_count": 13,
   "metadata": {
    "collapsed": true
   },
   "outputs": [],
   "source": [
    "# return is not a print statement.\n",
    "# return marks the end of the function.\n",
    "\n",
    "# defin\n",
    "def myfunc():\n",
    "    print \"hey there\"\n",
    "    print \"how are you\"\n",
    "    print \"hope you are fine\"\n",
    "    return \"hello world!!!\"\n",
    "    "
   ]
  },
  {
   "cell_type": "code",
   "execution_count": 14,
   "metadata": {
    "collapsed": false
   },
   "outputs": [
    {
     "name": "stdout",
     "output_type": "stream",
     "text": [
      "hey there\n",
      "how are you\n",
      "hope you are fine\n",
      "hello world!!!\n",
      "hey there\n",
      "how are you\n",
      "hope you are fine\n",
      "hello world!!!\n"
     ]
    }
   ],
   "source": [
    "# calling the function.\n",
    "print myfunc()\n",
    "print myfunc()"
   ]
  },
  {
   "cell_type": "code",
   "execution_count": 19,
   "metadata": {
    "collapsed": true
   },
   "outputs": [],
   "source": [
    "# scope of function\n",
    "# scope or namespaces\n",
    "# any variable defined inside a function is available only during the runtime of function.\n",
    "# locals -> what are the variables available to us locally for our function.\n",
    "\n",
    "\n",
    "def new():\n",
    "    a = 1\n",
    "    print locals()\n",
    "    return a"
   ]
  },
  {
   "cell_type": "code",
   "execution_count": 21,
   "metadata": {
    "collapsed": false
   },
   "outputs": [
    {
     "name": "stdout",
     "output_type": "stream",
     "text": [
      "<function new at 0x7fa6d429a500>\n",
      "<type 'function'>\n"
     ]
    }
   ],
   "source": [
    "print new\n",
    "print type(new)"
   ]
  },
  {
   "cell_type": "code",
   "execution_count": 22,
   "metadata": {
    "collapsed": false
   },
   "outputs": [
    {
     "name": "stdout",
     "output_type": "stream",
     "text": [
      "{'a': 1}\n",
      "1\n"
     ]
    },
    {
     "ename": "NameError",
     "evalue": "name 'a' is not defined",
     "output_type": "error",
     "traceback": [
      "\u001b[0;31m---------------------------------------------------------------------------\u001b[0m",
      "\u001b[0;31mNameError\u001b[0m                                 Traceback (most recent call last)",
      "\u001b[0;32m<ipython-input-22-cb8c301ab2fa>\u001b[0m in \u001b[0;36m<module>\u001b[0;34m()\u001b[0m\n\u001b[1;32m      1\u001b[0m \u001b[0;32mprint\u001b[0m \u001b[0mnew\u001b[0m\u001b[0;34m(\u001b[0m\u001b[0;34m)\u001b[0m \u001b[0;31m# 1\u001b[0m\u001b[0;34m\u001b[0m\u001b[0m\n\u001b[0;32m----> 2\u001b[0;31m \u001b[0;32mprint\u001b[0m \u001b[0ma\u001b[0m\u001b[0;34m\u001b[0m\u001b[0m\n\u001b[0m",
      "\u001b[0;31mNameError\u001b[0m: name 'a' is not defined"
     ]
    }
   ],
   "source": [
    "print new() # 1\n",
    "print a "
   ]
  },
  {
   "cell_type": "code",
   "execution_count": 18,
   "metadata": {
    "collapsed": false
   },
   "outputs": [
    {
     "name": "stdout",
     "output_type": "stream",
     "text": [
      "1\n"
     ]
    }
   ],
   "source": [
    "# if i want to save the value of \"a\" outside the function.\n",
    "# we can trap the return value\n",
    "\n",
    "z = new()\n",
    "print z"
   ]
  },
  {
   "cell_type": "code",
   "execution_count": 23,
   "metadata": {
    "collapsed": true
   },
   "outputs": [],
   "source": [
    "# case II\n",
    "# scope resolution\n",
    "# if variables are not available in local namespace, your function looks in global namespace.\n",
    "# globals -> what are variables available to us globally.\n",
    "\n",
    "y = 10\n",
    "\n",
    "def new():\n",
    "    print locals()\n",
    "    return y"
   ]
  },
  {
   "cell_type": "code",
   "execution_count": 24,
   "metadata": {
    "collapsed": false
   },
   "outputs": [
    {
     "name": "stdout",
     "output_type": "stream",
     "text": [
      "{}\n",
      "10\n",
      "10\n"
     ]
    }
   ],
   "source": [
    "print new() # 10\n",
    "print y # 10"
   ]
  },
  {
   "cell_type": "code",
   "execution_count": 25,
   "metadata": {
    "collapsed": false
   },
   "outputs": [
    {
     "name": "stdout",
     "output_type": "stream",
     "text": [
      "{'_dh': [u'/home/tcloudost/Documents/git_repositories/python-batches/batch-61'], '__': '', '__builtin__': <module '__builtin__' (built-in)>, '_iii': u'print new() # 1\\nprint a ', 'quit': <IPython.core.autocall.ZMQExitAutocall object at 0x7fa6d43e0210>, '_i9': u'# calling the function.\\nprint myfunc()\\nprint myfunc()', '_i8': u'# return is not a print statement.\\n# return marks the end of the function.\\n\\n# defin\\ndef myfunc():\\n    print \"hey there\"\\n    print \"how are you\"\\n    print \"hope you are fine\"\\n    return \"hello world!!!\"\\n    ', '_i7': u'print myfunc()\\nprint myfunc()', '_i6': u'print myfunc()\\nprint myfunc()', '_i5': u'# return is not a print statement.\\n# return marks the end of the function.\\ndef myfunc():\\n    return \"hello world!!!\"\\n    print \"hey there\"\\n    print \"how are you\"\\n    print \"hope you are fine\"', '_i4': u'print myfunc()\\nprint myfunc()', '_i3': u'def myfunc():\\n    return \"hello world!!!\"', '_i2': u'print myfunc()\\nprint myfunc()', '_i1': u'def myfunc():\\n    print \"hello world!!!\"', 'exit': <IPython.core.autocall.ZMQExitAutocall object at 0x7fa6d43e0210>, 'get_ipython': <bound method ZMQInteractiveShell.get_ipython of <ipykernel.zmqshell.ZMQInteractiveShell object at 0x7fa6dd043950>>, '_i': u'print new() # 10\\nprint y # 10', 'new': <function new at 0x7fa6d429a5f0>, '_i24': u'print new() # 10\\nprint y # 10', '_i14': u'# calling the function.\\nprint myfunc()\\nprint myfunc()', '_i22': u'print new() # 1\\nprint a ', '__doc__': 'Automatically created module for IPython interactive environment', '_i20': u'print new\\nprint type(new)', '_i21': u'print new\\nprint type(new)', 'myfunc': <function myfunc at 0x7fa6d433c1b8>, '_ii': u'# case II\\ny = 10\\n\\ndef new():\\n    print locals()\\n    return y', '__builtins__': <module '__builtin__' (built-in)>, 'In': ['', u'def myfunc():\\n    print \"hello world!!!\"', u'print myfunc()\\nprint myfunc()', u'def myfunc():\\n    return \"hello world!!!\"', u'print myfunc()\\nprint myfunc()', u'# return is not a print statement.\\n# return marks the end of the function.\\ndef myfunc():\\n    return \"hello world!!!\"\\n    print \"hey there\"\\n    print \"how are you\"\\n    print \"hope you are fine\"', u'print myfunc()\\nprint myfunc()', u'print myfunc()\\nprint myfunc()', u'# return is not a print statement.\\n# return marks the end of the function.\\n\\n# defin\\ndef myfunc():\\n    print \"hey there\"\\n    print \"how are you\"\\n    print \"hope you are fine\"\\n    return \"hello world!!!\"\\n    ', u'# calling the function.\\nprint myfunc()\\nprint myfunc()', u'# return is not a print statement.\\n# return marks the end of the function.\\n\\n# defin\\ndef myfunc():\\n    print \"hey there\"\\n    print \"how are you\"\\n    print \"hope you are fine\"\\n    print \"hello world!!!\"\\n    ', u'# calling the function.\\nprint myfunc()\\nprint myfunc()', u'# calling the function.\\nprint myfunc()\\nprint myfunc()', u'# return is not a print statement.\\n# return marks the end of the function.\\n\\n# defin\\ndef myfunc():\\n    print \"hey there\"\\n    print \"how are you\"\\n    print \"hope you are fine\"\\n    return \"hello world!!!\"\\n    ', u'# calling the function.\\nprint myfunc()\\nprint myfunc()', u'# scope of function\\n# scope or namespaces\\n\\ndef new():\\n    a = 1\\n    return a', u'print new\\nprint type(new)', u'print new() # 1\\nprint a ', u'# if i want to save the value of \"a\" outside the function.\\n# we can trap the return value\\n\\nz = new()\\nprint z', u'# scope of function\\n# scope or namespaces\\n# any variable defined inside a function is available only during the runtime of function.\\n# locals -> what are the variables available to us locally.\\n\\n\\ndef new():\\n    a = 1\\n    print locals()\\n    return a', u'print new\\nprint type(new)', u'print new\\nprint type(new)', u'print new() # 1\\nprint a ', u'# case II\\ny = 10\\n\\ndef new():\\n    print locals()\\n    return y', u'print new() # 10\\nprint y # 10', u'print globals()'], '__name__': '__main__', '___': '', '_': '', '_sh': <module 'IPython.core.shadowns' from '/usr/local/lib/python2.7/dist-packages/IPython/core/shadowns.pyc'>, '_i18': u'# if i want to save the value of \"a\" outside the function.\\n# we can trap the return value\\n\\nz = new()\\nprint z', '_i25': u'print globals()', '_i23': u'# case II\\ny = 10\\n\\ndef new():\\n    print locals()\\n    return y', '_i13': u'# return is not a print statement.\\n# return marks the end of the function.\\n\\n# defin\\ndef myfunc():\\n    print \"hey there\"\\n    print \"how are you\"\\n    print \"hope you are fine\"\\n    return \"hello world!!!\"\\n    ', '_i12': u'# calling the function.\\nprint myfunc()\\nprint myfunc()', '_i11': u'# calling the function.\\nprint myfunc()\\nprint myfunc()', '_i10': u'# return is not a print statement.\\n# return marks the end of the function.\\n\\n# defin\\ndef myfunc():\\n    print \"hey there\"\\n    print \"how are you\"\\n    print \"hope you are fine\"\\n    print \"hello world!!!\"\\n    ', '_i17': u'print new() # 1\\nprint a ', '_i16': u'print new\\nprint type(new)', '_i15': u'# scope of function\\n# scope or namespaces\\n\\ndef new():\\n    a = 1\\n    return a', '_ih': ['', u'def myfunc():\\n    print \"hello world!!!\"', u'print myfunc()\\nprint myfunc()', u'def myfunc():\\n    return \"hello world!!!\"', u'print myfunc()\\nprint myfunc()', u'# return is not a print statement.\\n# return marks the end of the function.\\ndef myfunc():\\n    return \"hello world!!!\"\\n    print \"hey there\"\\n    print \"how are you\"\\n    print \"hope you are fine\"', u'print myfunc()\\nprint myfunc()', u'print myfunc()\\nprint myfunc()', u'# return is not a print statement.\\n# return marks the end of the function.\\n\\n# defin\\ndef myfunc():\\n    print \"hey there\"\\n    print \"how are you\"\\n    print \"hope you are fine\"\\n    return \"hello world!!!\"\\n    ', u'# calling the function.\\nprint myfunc()\\nprint myfunc()', u'# return is not a print statement.\\n# return marks the end of the function.\\n\\n# defin\\ndef myfunc():\\n    print \"hey there\"\\n    print \"how are you\"\\n    print \"hope you are fine\"\\n    print \"hello world!!!\"\\n    ', u'# calling the function.\\nprint myfunc()\\nprint myfunc()', u'# calling the function.\\nprint myfunc()\\nprint myfunc()', u'# return is not a print statement.\\n# return marks the end of the function.\\n\\n# defin\\ndef myfunc():\\n    print \"hey there\"\\n    print \"how are you\"\\n    print \"hope you are fine\"\\n    return \"hello world!!!\"\\n    ', u'# calling the function.\\nprint myfunc()\\nprint myfunc()', u'# scope of function\\n# scope or namespaces\\n\\ndef new():\\n    a = 1\\n    return a', u'print new\\nprint type(new)', u'print new() # 1\\nprint a ', u'# if i want to save the value of \"a\" outside the function.\\n# we can trap the return value\\n\\nz = new()\\nprint z', u'# scope of function\\n# scope or namespaces\\n# any variable defined inside a function is available only during the runtime of function.\\n# locals -> what are the variables available to us locally.\\n\\n\\ndef new():\\n    a = 1\\n    print locals()\\n    return a', u'print new\\nprint type(new)', u'print new\\nprint type(new)', u'print new() # 1\\nprint a ', u'# case II\\ny = 10\\n\\ndef new():\\n    print locals()\\n    return y', u'print new() # 10\\nprint y # 10', u'print globals()'], 'y': 10, '_i19': u'# scope of function\\n# scope or namespaces\\n# any variable defined inside a function is available only during the runtime of function.\\n# locals -> what are the variables available to us locally.\\n\\n\\ndef new():\\n    a = 1\\n    print locals()\\n    return a', 'z': 1, '_oh': {}, 'Out': {}}\n"
     ]
    }
   ],
   "source": [
    "print globals()"
   ]
  },
  {
   "cell_type": "code",
   "execution_count": 33,
   "metadata": {
    "collapsed": false
   },
   "outputs": [],
   "source": [
    "# local or global variable\n",
    "# local variables are given more priority than global variabels.\n",
    "y = 10\n",
    "def new():\n",
    "    print locals()\n",
    "    y = 2\n",
    "    print locals()\n",
    "    return y"
   ]
  },
  {
   "cell_type": "code",
   "execution_count": 34,
   "metadata": {
    "collapsed": false
   },
   "outputs": [
    {
     "name": "stdout",
     "output_type": "stream",
     "text": [
      "{}\n",
      "{'y': 2}\n",
      "2\n",
      "10\n"
     ]
    }
   ],
   "source": [
    "print new()\n",
    "print y"
   ]
  },
  {
   "cell_type": "code",
   "execution_count": 35,
   "metadata": {
    "collapsed": true
   },
   "outputs": [],
   "source": [
    "# global\n",
    "\n",
    "balance = 0\n",
    "def deposit():\n",
    "    balance = balance + 1000\n",
    "    return balance"
   ]
  },
  {
   "cell_type": "code",
   "execution_count": 37,
   "metadata": {
    "collapsed": false
   },
   "outputs": [
    {
     "ename": "UnboundLocalError",
     "evalue": "local variable 'balance' referenced before assignment",
     "output_type": "error",
     "traceback": [
      "\u001b[0;31m---------------------------------------------------------------------------\u001b[0m",
      "\u001b[0;31mUnboundLocalError\u001b[0m                         Traceback (most recent call last)",
      "\u001b[0;32m<ipython-input-37-f63fab9016ab>\u001b[0m in \u001b[0;36m<module>\u001b[0;34m()\u001b[0m\n\u001b[0;32m----> 1\u001b[0;31m \u001b[0;32mprint\u001b[0m \u001b[0mdeposit\u001b[0m\u001b[0;34m(\u001b[0m\u001b[0;34m)\u001b[0m\u001b[0;34m\u001b[0m\u001b[0m\n\u001b[0m",
      "\u001b[0;32m<ipython-input-35-9eb156c782f3>\u001b[0m in \u001b[0;36mdeposit\u001b[0;34m()\u001b[0m\n\u001b[1;32m      3\u001b[0m \u001b[0mbalance\u001b[0m \u001b[0;34m=\u001b[0m \u001b[0;36m0\u001b[0m\u001b[0;34m\u001b[0m\u001b[0m\n\u001b[1;32m      4\u001b[0m \u001b[0;32mdef\u001b[0m \u001b[0mdeposit\u001b[0m\u001b[0;34m(\u001b[0m\u001b[0;34m)\u001b[0m\u001b[0;34m:\u001b[0m\u001b[0;34m\u001b[0m\u001b[0m\n\u001b[0;32m----> 5\u001b[0;31m     \u001b[0mbalance\u001b[0m \u001b[0;34m=\u001b[0m \u001b[0mbalance\u001b[0m \u001b[0;34m+\u001b[0m \u001b[0;36m1000\u001b[0m\u001b[0;34m\u001b[0m\u001b[0m\n\u001b[0m\u001b[1;32m      6\u001b[0m     \u001b[0;32mreturn\u001b[0m \u001b[0mbalance\u001b[0m\u001b[0;34m\u001b[0m\u001b[0m\n",
      "\u001b[0;31mUnboundLocalError\u001b[0m: local variable 'balance' referenced before assignment"
     ]
    }
   ],
   "source": [
    "print deposit()"
   ]
  },
  {
   "cell_type": "code",
   "execution_count": 45,
   "metadata": {
    "collapsed": true
   },
   "outputs": [],
   "source": [
    "balance = 0\n",
    "def deposit():\n",
    "    balance = 0\n",
    "    balance = balance + 1000\n",
    "    return balance\n",
    "def withdraw():\n",
    "    balance = 0\n",
    "    balance = balance - 300\n",
    "    return balance"
   ]
  },
  {
   "cell_type": "code",
   "execution_count": 41,
   "metadata": {
    "collapsed": false
   },
   "outputs": [
    {
     "name": "stdout",
     "output_type": "stream",
     "text": [
      "1000\n"
     ]
    }
   ],
   "source": [
    "print deposit()"
   ]
  },
  {
   "cell_type": "code",
   "execution_count": 46,
   "metadata": {
    "collapsed": false
   },
   "outputs": [
    {
     "name": "stdout",
     "output_type": "stream",
     "text": [
      "-300\n"
     ]
    }
   ],
   "source": [
    "print withdraw()"
   ]
  },
  {
   "cell_type": "code",
   "execution_count": 51,
   "metadata": {
    "collapsed": false
   },
   "outputs": [],
   "source": [
    "balance = 0\n",
    "def deposit():\n",
    "    global balance\n",
    "    print locals()\n",
    "    balance = balance + 1000\n",
    "    return balance\n",
    "def withdraw():\n",
    "    global balance\n",
    "    print locals()\n",
    "    balance = balance - 300\n",
    "    return balance"
   ]
  },
  {
   "cell_type": "code",
   "execution_count": 52,
   "metadata": {
    "collapsed": false
   },
   "outputs": [
    {
     "name": "stdout",
     "output_type": "stream",
     "text": [
      "0\n",
      "{}\n",
      "-300\n"
     ]
    }
   ],
   "source": [
    "print balance\n",
    "print withdraw()"
   ]
  },
  {
   "cell_type": "code",
   "execution_count": 53,
   "metadata": {
    "collapsed": false
   },
   "outputs": [
    {
     "name": "stdout",
     "output_type": "stream",
     "text": [
      "-300\n",
      "{}\n",
      "700\n"
     ]
    }
   ],
   "source": [
    "print balance\n",
    "print deposit()"
   ]
  },
  {
   "cell_type": "code",
   "execution_count": 54,
   "metadata": {
    "collapsed": false
   },
   "outputs": [
    {
     "name": "stdout",
     "output_type": "stream",
     "text": [
      "700\n",
      "{}\n",
      "400\n",
      "400\n"
     ]
    }
   ],
   "source": [
    "print balance\n",
    "print withdraw()\n",
    "print balance"
   ]
  },
  {
   "cell_type": "code",
   "execution_count": 60,
   "metadata": {
    "collapsed": true
   },
   "outputs": [],
   "source": [
    "# case 3\n",
    "bal = 0\n",
    "def deposit():\n",
    "    return bal + 1000"
   ]
  },
  {
   "cell_type": "code",
   "execution_count": 62,
   "metadata": {
    "collapsed": false
   },
   "outputs": [
    {
     "name": "stdout",
     "output_type": "stream",
     "text": [
      "1000\n"
     ]
    }
   ],
   "source": [
    "print deposit()"
   ]
  },
  {
   "cell_type": "code",
   "execution_count": 63,
   "metadata": {
    "collapsed": false
   },
   "outputs": [
    {
     "name": "stdout",
     "output_type": "stream",
     "text": [
      "0\n"
     ]
    }
   ],
   "source": [
    "print bal"
   ]
  },
  {
   "cell_type": "code",
   "execution_count": null,
   "metadata": {
    "collapsed": true
   },
   "outputs": [],
   "source": []
  },
  {
   "cell_type": "code",
   "execution_count": null,
   "metadata": {
    "collapsed": true
   },
   "outputs": [],
   "source": []
  }
 ],
 "metadata": {
  "kernelspec": {
   "display_name": "Python 2",
   "language": "python",
   "name": "python2"
  },
  "language_info": {
   "codemirror_mode": {
    "name": "ipython",
    "version": 2
   },
   "file_extension": ".py",
   "mimetype": "text/x-python",
   "name": "python",
   "nbconvert_exporter": "python",
   "pygments_lexer": "ipython2",
   "version": "2.7.6"
  }
 },
 "nbformat": 4,
 "nbformat_minor": 1
}
