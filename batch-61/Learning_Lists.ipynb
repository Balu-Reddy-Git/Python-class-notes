{
 "cells": [
  {
   "cell_type": "code",
   "execution_count": null,
   "metadata": {
    "collapsed": true
   },
   "outputs": [],
   "source": [
    "# Lists\n",
    "# List is a linear representation of hetrogeneous data .\n",
    "# Arrays(numpy) and Lists are not synonymous.\n",
    "# https://scipy.org/"
   ]
  },
  {
   "cell_type": "code",
   "execution_count": 1,
   "metadata": {
    "collapsed": true
   },
   "outputs": [],
   "source": [
    "my_fruits = [\"Apple\",\"banana\",\"cherry\",\"dates\"]"
   ]
  },
  {
   "cell_type": "code",
   "execution_count": 2,
   "metadata": {
    "collapsed": false
   },
   "outputs": [
    {
     "name": "stdout",
     "output_type": "stream",
     "text": [
      "['Apple', 'banana', 'cherry', 'dates'] <type 'list'>\n"
     ]
    }
   ],
   "source": [
    "print my_fruits,type(my_fruits)"
   ]
  },
  {
   "cell_type": "code",
   "execution_count": 3,
   "metadata": {
    "collapsed": false
   },
   "outputs": [
    {
     "name": "stdout",
     "output_type": "stream",
     "text": [
      "[] <type 'list'>\n"
     ]
    }
   ],
   "source": [
    "my_empty = []\n",
    "print my_empty,type(my_empty)"
   ]
  },
  {
   "cell_type": "code",
   "execution_count": 4,
   "metadata": {
    "collapsed": false
   },
   "outputs": [
    {
     "name": "stdout",
     "output_type": "stream",
     "text": [
      "[] <type 'list'>\n"
     ]
    }
   ],
   "source": [
    "my_empty = list()\n",
    "print my_empty,type(my_empty)"
   ]
  },
  {
   "cell_type": "code",
   "execution_count": 5,
   "metadata": {
    "collapsed": false
   },
   "outputs": [
    {
     "name": "stdout",
     "output_type": "stream",
     "text": [
      "Apple\n",
      "banana\n",
      "cherry\n",
      "dates\n"
     ]
    }
   ],
   "source": [
    "# list - iterator\n",
    "for value in my_fruits:\n",
    "    print value"
   ]
  },
  {
   "cell_type": "code",
   "execution_count": null,
   "metadata": {
    "collapsed": true
   },
   "outputs": [],
   "source": [
    "# list support - indexing,slicing."
   ]
  },
  {
   "cell_type": "code",
   "execution_count": 6,
   "metadata": {
    "collapsed": false
   },
   "outputs": [
    {
     "name": "stdout",
     "output_type": "stream",
     "text": [
      "dates\n",
      "dates\n"
     ]
    }
   ],
   "source": [
    "print my_fruits[3]\n",
    "print my_fruits[-1]"
   ]
  },
  {
   "cell_type": "code",
   "execution_count": 7,
   "metadata": {
    "collapsed": false
   },
   "outputs": [
    {
     "name": "stdout",
     "output_type": "stream",
     "text": [
      "e\n"
     ]
    }
   ],
   "source": [
    "# cherry\n",
    "print my_fruits[2][2]\n"
   ]
  },
  {
   "cell_type": "code",
   "execution_count": 8,
   "metadata": {
    "collapsed": false
   },
   "outputs": [
    {
     "name": "stdout",
     "output_type": "stream",
     "text": [
      "['banana', 'cherry']\n"
     ]
    }
   ],
   "source": [
    "# slicing\n",
    "print my_fruits[1:3]"
   ]
  },
  {
   "cell_type": "code",
   "execution_count": null,
   "metadata": {
    "collapsed": true
   },
   "outputs": [],
   "source": [
    "# in"
   ]
  },
  {
   "cell_type": "code",
   "execution_count": 10,
   "metadata": {
    "collapsed": false
   },
   "outputs": [
    {
     "name": "stdout",
     "output_type": "stream",
     "text": [
      "False\n",
      "True\n"
     ]
    }
   ],
   "source": [
    "print 'apple' in my_fruits\n",
    "print 'Apple' in my_fruits"
   ]
  },
  {
   "cell_type": "code",
   "execution_count": 11,
   "metadata": {
    "collapsed": false
   },
   "outputs": [
    {
     "name": "stdout",
     "output_type": "stream",
     "text": [
      "['Apple', 'banana', 'cherry', 'dates']\n"
     ]
    }
   ],
   "source": [
    "# list are mutable.\n",
    "print my_fruits"
   ]
  },
  {
   "cell_type": "code",
   "execution_count": 12,
   "metadata": {
    "collapsed": false
   },
   "outputs": [
    {
     "name": "stdout",
     "output_type": "stream",
     "text": [
      "['Apple', 'Banana', 'cherry', 'dates']\n"
     ]
    }
   ],
   "source": [
    "my_fruits[1]=\"Banana\"\n",
    "print my_fruits"
   ]
  },
  {
   "cell_type": "code",
   "execution_count": 13,
   "metadata": {
    "collapsed": false
   },
   "outputs": [
    {
     "ename": "TypeError",
     "evalue": "'str' object does not support item assignment",
     "output_type": "error",
     "traceback": [
      "\u001b[0;31m---------------------------------------------------------------------------\u001b[0m",
      "\u001b[0;31mTypeError\u001b[0m                                 Traceback (most recent call last)",
      "\u001b[0;32m<ipython-input-13-4d0912d41d59>\u001b[0m in \u001b[0;36m<module>\u001b[0;34m()\u001b[0m\n\u001b[1;32m      1\u001b[0m \u001b[0;31m# string\u001b[0m\u001b[0;34m\u001b[0m\u001b[0;34m\u001b[0m\u001b[0m\n\u001b[1;32m      2\u001b[0m \u001b[0mmy_string\u001b[0m\u001b[0;34m=\u001b[0m\u001b[0;34m\"banana\"\u001b[0m\u001b[0;34m\u001b[0m\u001b[0m\n\u001b[0;32m----> 3\u001b[0;31m \u001b[0mmy_string\u001b[0m\u001b[0;34m[\u001b[0m\u001b[0;36m0\u001b[0m\u001b[0;34m]\u001b[0m\u001b[0;34m=\u001b[0m\u001b[0;34m\"B\"\u001b[0m\u001b[0;34m\u001b[0m\u001b[0m\n\u001b[0m",
      "\u001b[0;31mTypeError\u001b[0m: 'str' object does not support item assignment"
     ]
    }
   ],
   "source": [
    "# string cannot be modified - immutable.\n",
    "my_string=\"banana\"\n",
    "my_string[0]=\"B\""
   ]
  },
  {
   "cell_type": "code",
   "execution_count": null,
   "metadata": {
    "collapsed": true
   },
   "outputs": [],
   "source": [
    "# converting a list to string and vice-versa\n"
   ]
  },
  {
   "cell_type": "code",
   "execution_count": 14,
   "metadata": {
    "collapsed": false
   },
   "outputs": [
    {
     "name": "stdout",
     "output_type": "stream",
     "text": [
      "['p', 'y', 't', 'h', 'o', 'n']\n"
     ]
    }
   ],
   "source": [
    "# string\n",
    "my_string=\"python\"\n",
    "\n",
    "# convering a string to a list\n",
    "Lmy_string = list(my_string)\n",
    "print Lmy_string"
   ]
  },
  {
   "cell_type": "code",
   "execution_count": 15,
   "metadata": {
    "collapsed": false
   },
   "outputs": [
    {
     "name": "stdout",
     "output_type": "stream",
     "text": [
      "['T', 'y', 't', 'h', 'o', 'n']\n"
     ]
    }
   ],
   "source": [
    "# modified list.\n",
    "Lmy_string[0]=\"T\"\n",
    "print Lmy_string"
   ]
  },
  {
   "cell_type": "code",
   "execution_count": 26,
   "metadata": {
    "collapsed": false
   },
   "outputs": [
    {
     "name": "stdout",
     "output_type": "stream",
     "text": [
      "Help on built-in function join:\n",
      "\n",
      "join(...)\n",
      "    S.join(iterable) -> string\n",
      "    \n",
      "    Return a string which is the concatenation of the strings in the\n",
      "    iterable.  The separator between elements is S.\n",
      "\n",
      "None\n"
     ]
    }
   ],
   "source": [
    "# convert the list back to string\n",
    "limiter=\"\"\n",
    "print help(limiter.join)"
   ]
  },
  {
   "cell_type": "code",
   "execution_count": 28,
   "metadata": {
    "collapsed": false
   },
   "outputs": [
    {
     "name": "stdout",
     "output_type": "stream",
     "text": [
      "Tython\n",
      "T,y,t,h,o,n\n"
     ]
    }
   ],
   "source": [
    "print limiter.join(Lmy_string)\n",
    "print \",\".join(Lmy_string)"
   ]
  },
  {
   "cell_type": "code",
   "execution_count": 31,
   "metadata": {
    "collapsed": false
   },
   "outputs": [
    {
     "name": "stdout",
     "output_type": "stream",
     "text": [
      "Today is thursday\n"
     ]
    }
   ],
   "source": [
    "# my_sentence\n",
    "my_sentence = \"Today is thursday\"\n",
    "print my_sentence"
   ]
  },
  {
   "cell_type": "code",
   "execution_count": 33,
   "metadata": {
    "collapsed": false
   },
   "outputs": [
    {
     "name": "stdout",
     "output_type": "stream",
     "text": [
      "['T', 'o', 'd', 'a', 'y', ' ', 'i', 's', ' ', 't', 'h', 'u', 'r', 's', 'd', 'a', 'y']\n"
     ]
    }
   ],
   "source": [
    "Lmy_sentence = list(my_sentence)\n",
    "print Lmy_sentence"
   ]
  },
  {
   "cell_type": "code",
   "execution_count": 34,
   "metadata": {
    "collapsed": false
   },
   "outputs": [
    {
     "name": "stdout",
     "output_type": "stream",
     "text": [
      "Help on built-in function split:\n",
      "\n",
      "split(...)\n",
      "    S.split([sep [,maxsplit]]) -> list of strings\n",
      "    \n",
      "    Return a list of the words in the string S, using sep as the\n",
      "    delimiter string.  If maxsplit is given, at most maxsplit\n",
      "    splits are done. If sep is not specified or is None, any\n",
      "    whitespace string is a separator and empty strings are removed\n",
      "    from the result.\n",
      "\n",
      "None\n"
     ]
    }
   ],
   "source": [
    "# split\n",
    "print help(my_sentence.split)"
   ]
  },
  {
   "cell_type": "code",
   "execution_count": 35,
   "metadata": {
    "collapsed": false
   },
   "outputs": [
    {
     "name": "stdout",
     "output_type": "stream",
     "text": [
      "['Today', 'is', 'thursday']\n"
     ]
    }
   ],
   "source": [
    "Lmy_sentence = my_sentence.split()\n",
    "print Lmy_sentence"
   ]
  },
  {
   "cell_type": "code",
   "execution_count": 37,
   "metadata": {
    "collapsed": false
   },
   "outputs": [
    {
     "name": "stdout",
     "output_type": "stream",
     "text": [
      "['Today', 'is', 'Friday']\n"
     ]
    }
   ],
   "source": [
    "Lmy_sentence[2]=\"Friday\"\n",
    "print Lmy_sentence"
   ]
  },
  {
   "cell_type": "code",
   "execution_count": 38,
   "metadata": {
    "collapsed": false
   },
   "outputs": [
    {
     "name": "stdout",
     "output_type": "stream",
     "text": [
      "Today is Friday\n"
     ]
    }
   ],
   "source": [
    "# revert it back to a string\n",
    "limiter=\" \"\n",
    "print limiter.join(Lmy_sentence)"
   ]
  },
  {
   "cell_type": "code",
   "execution_count": 40,
   "metadata": {
    "collapsed": false
   },
   "outputs": [
    {
     "name": "stdout",
     "output_type": "stream",
     "text": [
      "results of student - soumi \n",
      "results of student - aditya \n",
      "results of student - krishna \n"
     ]
    }
   ],
   "source": [
    "#!/usr/bin/python\n",
    "# continue: you can skip an iteration\n",
    "absent = ['chitu','ravi','law','akshit','kumar']\n",
    "for student in ['chitu','soumi','ravi','kumar','law','aditya','akshit','krishna']:\n",
    "\tif student in absent:\n",
    "\t\tcontinue\n",
    "\t\t#break\n",
    "\t\t#pass\n",
    "\tprint \"results of student - {} \".format(student)"
   ]
  },
  {
   "cell_type": "code",
   "execution_count": 43,
   "metadata": {
    "collapsed": false
   },
   "outputs": [
    {
     "name": "stdout",
     "output_type": "stream",
     "text": [
      "name of the student who is absent - chitu\n",
      "name of the student who is absent - ravi\n",
      "name of the student who is absent - law\n",
      "name of the student who is absent - akshit\n"
     ]
    }
   ],
   "source": [
    "# i want to find out the students who are absent and also there in studnet list.\n",
    "absent = ['chitu','ravi','law','akshit','kumar']\n",
    "student = ['chitu','soumi','ravi','law','aditya','akshit','krishna']\n",
    "\n",
    "for stu in absent:\n",
    "    if stu not in student:\n",
    "        continue\n",
    "    print \"name of the student who is absent - {}\".format(stu)\n"
   ]
  },
  {
   "cell_type": "code",
   "execution_count": null,
   "metadata": {
    "collapsed": true
   },
   "outputs": [],
   "source": [
    "# Assignements\n",
    "# https://github.com/sambapython/python/blob/master/assignments.txt\n",
    "# reverse a list -wihout a function.\n",
    "l=[1,2,3,5,7,8,9,10,11,12,13,20,22,23,24,25,26,27,20,21,22,4] output = [[1, 2, 3], [5], [7, 8, 9, 10, 11, 12, 13], [20], [22, 23, 24, 25, 26, 27], [20, 21, 22], [4]]\n"
   ]
  }
 ],
 "metadata": {
  "kernelspec": {
   "display_name": "Python 2",
   "language": "python",
   "name": "python2"
  },
  "language_info": {
   "codemirror_mode": {
    "name": "ipython",
    "version": 2
   },
   "file_extension": ".py",
   "mimetype": "text/x-python",
   "name": "python",
   "nbconvert_exporter": "python",
   "pygments_lexer": "ipython2",
   "version": "2.7.6"
  }
 },
 "nbformat": 4,
 "nbformat_minor": 1
}
